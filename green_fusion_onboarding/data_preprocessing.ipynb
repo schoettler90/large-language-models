{
 "cells": [
  {
   "cell_type": "code",
   "execution_count": 1,
   "id": "initial_id",
   "metadata": {
    "collapsed": true,
    "ExecuteTime": {
     "end_time": "2023-11-22T17:00:34.795139500Z",
     "start_time": "2023-11-22T17:00:34.438649700Z"
    }
   },
   "outputs": [],
   "source": [
    "import pandas as pd"
   ]
  },
  {
   "cell_type": "code",
   "execution_count": 2,
   "outputs": [
    {
     "name": "stderr",
     "output_type": "stream",
     "text": [
      "C:\\Users\\ricar\\anaconda3\\envs\\pytorch\\Lib\\site-packages\\openpyxl\\worksheet\\_reader.py:211: UserWarning: Cell O210 is marked as a date but the serial value 54449048 is outside the limits for dates. The cell will be treated as an error.\n",
      "  warn(msg)\n"
     ]
    },
    {
     "data": {
      "text/plain": "     building  building_new                        address  \\\n0         359           359             Defreggerstraße 8B   \n1         359           359             Defreggerstraße 8B   \n2         359           359             Defreggerstraße 8B   \n3         359           359             Defreggerstraße 8B   \n4         359           359             Defreggerstraße 8B   \n..        ...           ...                            ...   \n477       366           399  Großbeerenstraße 2-10, Haus 3   \n478       399           399  Großbeerenstraße 2-10, Haus 1   \n479       366           399  Großbeerenstraße 2-10, Haus 3   \n480       435           435                   Gebäude #435   \n481       436           436                   Gebäude #436   \n\n                       address_new                  node_id  factor  \\\n0               Defreggerstraße 8B       Device.IsConnected       1   \n1               Defreggerstraße 8B           ZW_ZZ1_rEnergy    1000   \n2               Defreggerstraße 8B           ZW_ZZ2_rEnergy    1000   \n3               Defreggerstraße 8B            ZW_ZZ1_rPower       1   \n4               Defreggerstraße 8B            ZW_ZZ2_rPower       1   \n..                             ...                      ...     ...   \n477  Großbeerenstraße 2-10, Haus 3  Temperatur43_Temperatur       1   \n478  Großbeerenstraße 2-10, Haus 1           ZW_ZZ1_rVolume       1   \n479  Großbeerenstraße 2-10, Haus 3      Primary1_Durchfluss       1   \n480                  Bülowstraße 7               aussentemp       1   \n481             Nollendorfstraße 2               aussentemp       1   \n\n     factor_new unit_getec unit_getec_2   idn  \\\n0           1.0        NaN            0  5105   \n1        1000.0        MWh          MWh  5144   \n2        1000.0        MWh          MWh  5142   \n3           1.0        NaN            0  5145   \n4           1.0        NaN            0  5139   \n..          ...        ...          ...   ...   \n477         1.0         °C           °C  5436   \n478         1.0         m³           m³  5963   \n479         1.0       m3/h         m³/h  5440   \n480         1.0        NaN            0  7898   \n481         1.0        NaN            0  7908   \n\n                             name_cust      gfstandard       acronym_n  \\\n0              Device_IsConnected_ival               0               0   \n1                          WMZ HK_ival        e_hc1_hm      e_hc(n)_hm   \n2                         WMZ WWB_ival        e_hw1_hm      e_hw(n)_hm   \n3                 WMZ HK Leistung_ival        p_hc1_hm      p_hc(n)_hm   \n4                WMZ WWB Leistung_ival        p_hw1_hm      p_hw(n)_hm   \n..                                 ...             ...             ...   \n477        Temperatur43_Tempera00_ival  t_gprim_return  t_g_primreturn   \n478  Gaszähler Gesamt Zählerstand_ival          v_g_gm          v_g_gm   \n479       WMZ Gesamt - Durchfluss_ival       vdot_g_hm       vdot_g_hm   \n480                                NaN         t_g_out         t_g_out   \n481                                NaN         t_g_out         t_g_out   \n\n     hydraulic_location_index        current_value  \n0                         0.0                    0  \n1                         1.0                933.1  \n2                         1.0               484.77  \n3                         1.0                36.74  \n4                         1.0                15795  \n..                        ...                  ...  \n477                       NaN                40312  \n478                       NaN  3600-03-31 00:00:00  \n479                       NaN                16923  \n480                       NaN                  NaN  \n481                       NaN                  NaN  \n\n[482 rows x 15 columns]",
      "text/html": "<div>\n<style scoped>\n    .dataframe tbody tr th:only-of-type {\n        vertical-align: middle;\n    }\n\n    .dataframe tbody tr th {\n        vertical-align: top;\n    }\n\n    .dataframe thead th {\n        text-align: right;\n    }\n</style>\n<table border=\"1\" class=\"dataframe\">\n  <thead>\n    <tr style=\"text-align: right;\">\n      <th></th>\n      <th>building</th>\n      <th>building_new</th>\n      <th>address</th>\n      <th>address_new</th>\n      <th>node_id</th>\n      <th>factor</th>\n      <th>factor_new</th>\n      <th>unit_getec</th>\n      <th>unit_getec_2</th>\n      <th>idn</th>\n      <th>name_cust</th>\n      <th>gfstandard</th>\n      <th>acronym_n</th>\n      <th>hydraulic_location_index</th>\n      <th>current_value</th>\n    </tr>\n  </thead>\n  <tbody>\n    <tr>\n      <th>0</th>\n      <td>359</td>\n      <td>359</td>\n      <td>Defreggerstraße 8B</td>\n      <td>Defreggerstraße 8B</td>\n      <td>Device.IsConnected</td>\n      <td>1</td>\n      <td>1.0</td>\n      <td>NaN</td>\n      <td>0</td>\n      <td>5105</td>\n      <td>Device_IsConnected_ival</td>\n      <td>0</td>\n      <td>0</td>\n      <td>0.0</td>\n      <td>0</td>\n    </tr>\n    <tr>\n      <th>1</th>\n      <td>359</td>\n      <td>359</td>\n      <td>Defreggerstraße 8B</td>\n      <td>Defreggerstraße 8B</td>\n      <td>ZW_ZZ1_rEnergy</td>\n      <td>1000</td>\n      <td>1000.0</td>\n      <td>MWh</td>\n      <td>MWh</td>\n      <td>5144</td>\n      <td>WMZ HK_ival</td>\n      <td>e_hc1_hm</td>\n      <td>e_hc(n)_hm</td>\n      <td>1.0</td>\n      <td>933.1</td>\n    </tr>\n    <tr>\n      <th>2</th>\n      <td>359</td>\n      <td>359</td>\n      <td>Defreggerstraße 8B</td>\n      <td>Defreggerstraße 8B</td>\n      <td>ZW_ZZ2_rEnergy</td>\n      <td>1000</td>\n      <td>1000.0</td>\n      <td>MWh</td>\n      <td>MWh</td>\n      <td>5142</td>\n      <td>WMZ WWB_ival</td>\n      <td>e_hw1_hm</td>\n      <td>e_hw(n)_hm</td>\n      <td>1.0</td>\n      <td>484.77</td>\n    </tr>\n    <tr>\n      <th>3</th>\n      <td>359</td>\n      <td>359</td>\n      <td>Defreggerstraße 8B</td>\n      <td>Defreggerstraße 8B</td>\n      <td>ZW_ZZ1_rPower</td>\n      <td>1</td>\n      <td>1.0</td>\n      <td>NaN</td>\n      <td>0</td>\n      <td>5145</td>\n      <td>WMZ HK Leistung_ival</td>\n      <td>p_hc1_hm</td>\n      <td>p_hc(n)_hm</td>\n      <td>1.0</td>\n      <td>36.74</td>\n    </tr>\n    <tr>\n      <th>4</th>\n      <td>359</td>\n      <td>359</td>\n      <td>Defreggerstraße 8B</td>\n      <td>Defreggerstraße 8B</td>\n      <td>ZW_ZZ2_rPower</td>\n      <td>1</td>\n      <td>1.0</td>\n      <td>NaN</td>\n      <td>0</td>\n      <td>5139</td>\n      <td>WMZ WWB Leistung_ival</td>\n      <td>p_hw1_hm</td>\n      <td>p_hw(n)_hm</td>\n      <td>1.0</td>\n      <td>15795</td>\n    </tr>\n    <tr>\n      <th>...</th>\n      <td>...</td>\n      <td>...</td>\n      <td>...</td>\n      <td>...</td>\n      <td>...</td>\n      <td>...</td>\n      <td>...</td>\n      <td>...</td>\n      <td>...</td>\n      <td>...</td>\n      <td>...</td>\n      <td>...</td>\n      <td>...</td>\n      <td>...</td>\n      <td>...</td>\n    </tr>\n    <tr>\n      <th>477</th>\n      <td>366</td>\n      <td>399</td>\n      <td>Großbeerenstraße 2-10, Haus 3</td>\n      <td>Großbeerenstraße 2-10, Haus 3</td>\n      <td>Temperatur43_Temperatur</td>\n      <td>1</td>\n      <td>1.0</td>\n      <td>°C</td>\n      <td>°C</td>\n      <td>5436</td>\n      <td>Temperatur43_Tempera00_ival</td>\n      <td>t_gprim_return</td>\n      <td>t_g_primreturn</td>\n      <td>NaN</td>\n      <td>40312</td>\n    </tr>\n    <tr>\n      <th>478</th>\n      <td>399</td>\n      <td>399</td>\n      <td>Großbeerenstraße 2-10, Haus 1</td>\n      <td>Großbeerenstraße 2-10, Haus 1</td>\n      <td>ZW_ZZ1_rVolume</td>\n      <td>1</td>\n      <td>1.0</td>\n      <td>m³</td>\n      <td>m³</td>\n      <td>5963</td>\n      <td>Gaszähler Gesamt Zählerstand_ival</td>\n      <td>v_g_gm</td>\n      <td>v_g_gm</td>\n      <td>NaN</td>\n      <td>3600-03-31 00:00:00</td>\n    </tr>\n    <tr>\n      <th>479</th>\n      <td>366</td>\n      <td>399</td>\n      <td>Großbeerenstraße 2-10, Haus 3</td>\n      <td>Großbeerenstraße 2-10, Haus 3</td>\n      <td>Primary1_Durchfluss</td>\n      <td>1</td>\n      <td>1.0</td>\n      <td>m3/h</td>\n      <td>m³/h</td>\n      <td>5440</td>\n      <td>WMZ Gesamt - Durchfluss_ival</td>\n      <td>vdot_g_hm</td>\n      <td>vdot_g_hm</td>\n      <td>NaN</td>\n      <td>16923</td>\n    </tr>\n    <tr>\n      <th>480</th>\n      <td>435</td>\n      <td>435</td>\n      <td>Gebäude #435</td>\n      <td>Bülowstraße 7</td>\n      <td>aussentemp</td>\n      <td>1</td>\n      <td>1.0</td>\n      <td>NaN</td>\n      <td>0</td>\n      <td>7898</td>\n      <td>NaN</td>\n      <td>t_g_out</td>\n      <td>t_g_out</td>\n      <td>NaN</td>\n      <td>NaN</td>\n    </tr>\n    <tr>\n      <th>481</th>\n      <td>436</td>\n      <td>436</td>\n      <td>Gebäude #436</td>\n      <td>Nollendorfstraße 2</td>\n      <td>aussentemp</td>\n      <td>1</td>\n      <td>1.0</td>\n      <td>NaN</td>\n      <td>0</td>\n      <td>7908</td>\n      <td>NaN</td>\n      <td>t_g_out</td>\n      <td>t_g_out</td>\n      <td>NaN</td>\n      <td>NaN</td>\n    </tr>\n  </tbody>\n</table>\n<p>482 rows × 15 columns</p>\n</div>"
     },
     "execution_count": 2,
     "metadata": {},
     "output_type": "execute_result"
    }
   ],
   "source": [
    "df = pd.read_excel('data/sensors_example.xlsx')\n",
    "df"
   ],
   "metadata": {
    "collapsed": false,
    "ExecuteTime": {
     "end_time": "2023-11-22T17:00:35.012376700Z",
     "start_time": "2023-11-22T17:00:34.796138Z"
    }
   },
   "id": "ddc26005896a3673"
  },
  {
   "cell_type": "code",
   "execution_count": 3,
   "outputs": [
    {
     "data": {
      "text/plain": "     building  building_new                        address  \\\n1         359           359             Defreggerstraße 8B   \n2         359           359             Defreggerstraße 8B   \n3         359           359             Defreggerstraße 8B   \n4         359           359             Defreggerstraße 8B   \n5         359           359             Defreggerstraße 8B   \n..        ...           ...                            ...   \n477       366           399  Großbeerenstraße 2-10, Haus 3   \n478       399           399  Großbeerenstraße 2-10, Haus 1   \n479       366           399  Großbeerenstraße 2-10, Haus 3   \n480       435           435                   Gebäude #435   \n481       436           436                   Gebäude #436   \n\n                       address_new                  node_id  factor  \\\n1               Defreggerstraße 8B           ZW_ZZ1_rEnergy    1000   \n2               Defreggerstraße 8B           ZW_ZZ2_rEnergy    1000   \n3               Defreggerstraße 8B            ZW_ZZ1_rPower       1   \n4               Defreggerstraße 8B            ZW_ZZ2_rPower       1   \n5               Defreggerstraße 8B      CV_HVS1_rVentStellw       1   \n..                             ...                      ...     ...   \n477  Großbeerenstraße 2-10, Haus 3  Temperatur43_Temperatur       1   \n478  Großbeerenstraße 2-10, Haus 1           ZW_ZZ1_rVolume       1   \n479  Großbeerenstraße 2-10, Haus 3      Primary1_Durchfluss       1   \n480                  Bülowstraße 7               aussentemp       1   \n481             Nollendorfstraße 2               aussentemp       1   \n\n     factor_new unit_getec unit_getec_2   idn  \\\n1        1000.0        MWh          MWh  5144   \n2        1000.0        MWh          MWh  5142   \n3           1.0        NaN            0  5145   \n4           1.0        NaN            0  5139   \n5           1.0        NaN            0  5129   \n..          ...        ...          ...   ...   \n477         1.0         °C           °C  5436   \n478         1.0         m³           m³  5963   \n479         1.0       m3/h         m³/h  5440   \n480         1.0        NaN            0  7898   \n481         1.0        NaN            0  7908   \n\n                             name_cust      gfstandard       acronym_n  \\\n1                          WMZ HK_ival        e_hc1_hm         e_hc_hm   \n2                         WMZ WWB_ival        e_hw1_hm         e_hw_hm   \n3                 WMZ HK Leistung_ival        p_hc1_hm         p_hc_hm   \n4                WMZ WWB Leistung_ival        p_hw1_hm         p_hw_hm   \n5            HK1 Mischerstellwert_ival     r_hc1_valve      r_hc_valve   \n..                                 ...             ...             ...   \n477        Temperatur43_Tempera00_ival  t_gprim_return  t_g_primreturn   \n478  Gaszähler Gesamt Zählerstand_ival          v_g_gm          v_g_gm   \n479       WMZ Gesamt - Durchfluss_ival       vdot_g_hm       vdot_g_hm   \n480                                NaN         t_g_out         t_g_out   \n481                                NaN         t_g_out         t_g_out   \n\n     hydraulic_location_index        current_value       acronym_split  \n1                         1.0                933.1         [e, hc, hm]  \n2                         1.0               484.77         [e, hw, hm]  \n3                         1.0                36.74         [p, hc, hm]  \n4                         1.0                15795         [p, hw, hm]  \n5                         1.0  3478-04-27 00:00:00      [r, hc, valve]  \n..                        ...                  ...                 ...  \n477                       NaN                40312  [t, g, primreturn]  \n478                       NaN  3600-03-31 00:00:00          [v, g, gm]  \n479                       NaN                16923       [vdot, g, hm]  \n480                       NaN                  NaN         [t, g, out]  \n481                       NaN                  NaN         [t, g, out]  \n\n[447 rows x 16 columns]",
      "text/html": "<div>\n<style scoped>\n    .dataframe tbody tr th:only-of-type {\n        vertical-align: middle;\n    }\n\n    .dataframe tbody tr th {\n        vertical-align: top;\n    }\n\n    .dataframe thead th {\n        text-align: right;\n    }\n</style>\n<table border=\"1\" class=\"dataframe\">\n  <thead>\n    <tr style=\"text-align: right;\">\n      <th></th>\n      <th>building</th>\n      <th>building_new</th>\n      <th>address</th>\n      <th>address_new</th>\n      <th>node_id</th>\n      <th>factor</th>\n      <th>factor_new</th>\n      <th>unit_getec</th>\n      <th>unit_getec_2</th>\n      <th>idn</th>\n      <th>name_cust</th>\n      <th>gfstandard</th>\n      <th>acronym_n</th>\n      <th>hydraulic_location_index</th>\n      <th>current_value</th>\n      <th>acronym_split</th>\n    </tr>\n  </thead>\n  <tbody>\n    <tr>\n      <th>1</th>\n      <td>359</td>\n      <td>359</td>\n      <td>Defreggerstraße 8B</td>\n      <td>Defreggerstraße 8B</td>\n      <td>ZW_ZZ1_rEnergy</td>\n      <td>1000</td>\n      <td>1000.0</td>\n      <td>MWh</td>\n      <td>MWh</td>\n      <td>5144</td>\n      <td>WMZ HK_ival</td>\n      <td>e_hc1_hm</td>\n      <td>e_hc_hm</td>\n      <td>1.0</td>\n      <td>933.1</td>\n      <td>[e, hc, hm]</td>\n    </tr>\n    <tr>\n      <th>2</th>\n      <td>359</td>\n      <td>359</td>\n      <td>Defreggerstraße 8B</td>\n      <td>Defreggerstraße 8B</td>\n      <td>ZW_ZZ2_rEnergy</td>\n      <td>1000</td>\n      <td>1000.0</td>\n      <td>MWh</td>\n      <td>MWh</td>\n      <td>5142</td>\n      <td>WMZ WWB_ival</td>\n      <td>e_hw1_hm</td>\n      <td>e_hw_hm</td>\n      <td>1.0</td>\n      <td>484.77</td>\n      <td>[e, hw, hm]</td>\n    </tr>\n    <tr>\n      <th>3</th>\n      <td>359</td>\n      <td>359</td>\n      <td>Defreggerstraße 8B</td>\n      <td>Defreggerstraße 8B</td>\n      <td>ZW_ZZ1_rPower</td>\n      <td>1</td>\n      <td>1.0</td>\n      <td>NaN</td>\n      <td>0</td>\n      <td>5145</td>\n      <td>WMZ HK Leistung_ival</td>\n      <td>p_hc1_hm</td>\n      <td>p_hc_hm</td>\n      <td>1.0</td>\n      <td>36.74</td>\n      <td>[p, hc, hm]</td>\n    </tr>\n    <tr>\n      <th>4</th>\n      <td>359</td>\n      <td>359</td>\n      <td>Defreggerstraße 8B</td>\n      <td>Defreggerstraße 8B</td>\n      <td>ZW_ZZ2_rPower</td>\n      <td>1</td>\n      <td>1.0</td>\n      <td>NaN</td>\n      <td>0</td>\n      <td>5139</td>\n      <td>WMZ WWB Leistung_ival</td>\n      <td>p_hw1_hm</td>\n      <td>p_hw_hm</td>\n      <td>1.0</td>\n      <td>15795</td>\n      <td>[p, hw, hm]</td>\n    </tr>\n    <tr>\n      <th>5</th>\n      <td>359</td>\n      <td>359</td>\n      <td>Defreggerstraße 8B</td>\n      <td>Defreggerstraße 8B</td>\n      <td>CV_HVS1_rVentStellw</td>\n      <td>1</td>\n      <td>1.0</td>\n      <td>NaN</td>\n      <td>0</td>\n      <td>5129</td>\n      <td>HK1 Mischerstellwert_ival</td>\n      <td>r_hc1_valve</td>\n      <td>r_hc_valve</td>\n      <td>1.0</td>\n      <td>3478-04-27 00:00:00</td>\n      <td>[r, hc, valve]</td>\n    </tr>\n    <tr>\n      <th>...</th>\n      <td>...</td>\n      <td>...</td>\n      <td>...</td>\n      <td>...</td>\n      <td>...</td>\n      <td>...</td>\n      <td>...</td>\n      <td>...</td>\n      <td>...</td>\n      <td>...</td>\n      <td>...</td>\n      <td>...</td>\n      <td>...</td>\n      <td>...</td>\n      <td>...</td>\n      <td>...</td>\n    </tr>\n    <tr>\n      <th>477</th>\n      <td>366</td>\n      <td>399</td>\n      <td>Großbeerenstraße 2-10, Haus 3</td>\n      <td>Großbeerenstraße 2-10, Haus 3</td>\n      <td>Temperatur43_Temperatur</td>\n      <td>1</td>\n      <td>1.0</td>\n      <td>°C</td>\n      <td>°C</td>\n      <td>5436</td>\n      <td>Temperatur43_Tempera00_ival</td>\n      <td>t_gprim_return</td>\n      <td>t_g_primreturn</td>\n      <td>NaN</td>\n      <td>40312</td>\n      <td>[t, g, primreturn]</td>\n    </tr>\n    <tr>\n      <th>478</th>\n      <td>399</td>\n      <td>399</td>\n      <td>Großbeerenstraße 2-10, Haus 1</td>\n      <td>Großbeerenstraße 2-10, Haus 1</td>\n      <td>ZW_ZZ1_rVolume</td>\n      <td>1</td>\n      <td>1.0</td>\n      <td>m³</td>\n      <td>m³</td>\n      <td>5963</td>\n      <td>Gaszähler Gesamt Zählerstand_ival</td>\n      <td>v_g_gm</td>\n      <td>v_g_gm</td>\n      <td>NaN</td>\n      <td>3600-03-31 00:00:00</td>\n      <td>[v, g, gm]</td>\n    </tr>\n    <tr>\n      <th>479</th>\n      <td>366</td>\n      <td>399</td>\n      <td>Großbeerenstraße 2-10, Haus 3</td>\n      <td>Großbeerenstraße 2-10, Haus 3</td>\n      <td>Primary1_Durchfluss</td>\n      <td>1</td>\n      <td>1.0</td>\n      <td>m3/h</td>\n      <td>m³/h</td>\n      <td>5440</td>\n      <td>WMZ Gesamt - Durchfluss_ival</td>\n      <td>vdot_g_hm</td>\n      <td>vdot_g_hm</td>\n      <td>NaN</td>\n      <td>16923</td>\n      <td>[vdot, g, hm]</td>\n    </tr>\n    <tr>\n      <th>480</th>\n      <td>435</td>\n      <td>435</td>\n      <td>Gebäude #435</td>\n      <td>Bülowstraße 7</td>\n      <td>aussentemp</td>\n      <td>1</td>\n      <td>1.0</td>\n      <td>NaN</td>\n      <td>0</td>\n      <td>7898</td>\n      <td>NaN</td>\n      <td>t_g_out</td>\n      <td>t_g_out</td>\n      <td>NaN</td>\n      <td>NaN</td>\n      <td>[t, g, out]</td>\n    </tr>\n    <tr>\n      <th>481</th>\n      <td>436</td>\n      <td>436</td>\n      <td>Gebäude #436</td>\n      <td>Nollendorfstraße 2</td>\n      <td>aussentemp</td>\n      <td>1</td>\n      <td>1.0</td>\n      <td>NaN</td>\n      <td>0</td>\n      <td>7908</td>\n      <td>NaN</td>\n      <td>t_g_out</td>\n      <td>t_g_out</td>\n      <td>NaN</td>\n      <td>NaN</td>\n      <td>[t, g, out]</td>\n    </tr>\n  </tbody>\n</table>\n<p>447 rows × 16 columns</p>\n</div>"
     },
     "execution_count": 3,
     "metadata": {},
     "output_type": "execute_result"
    }
   ],
   "source": [
    "# handle acronyms\n",
    "df = df.dropna(subset=[\"acronym_n\"])\n",
    "df = df[df['acronym_n'] != 0]\n",
    "# remove the str '(n)' from the acronym column\n",
    "df['acronym_n'] = df['acronym_n'].str.replace(r\"(n)\",\"\")\n",
    "\n",
    "# split the acronym column into a list of acronyms\n",
    "df['acronym_split'] = df['acronym_n'].str.split('_')\n",
    "df\n"
   ],
   "metadata": {
    "collapsed": false,
    "ExecuteTime": {
     "end_time": "2023-11-22T17:00:35.031719500Z",
     "start_time": "2023-11-22T17:00:35.013377100Z"
    }
   },
   "id": "c35cb9718899e895"
  },
  {
   "cell_type": "code",
   "execution_count": 4,
   "outputs": [],
   "source": [
    "# acronyms cleaning functions\n",
    "def convert_list_to_categorical(acronym_list: list[str]) -> tuple[str, str, str]:\n",
    "    \"\"\"\n",
    "    Converts a list of acronyms into a tuple of strings,\n",
    "    the first 2 strings in the list get mapped to the first 2 values in the tuple and the remaining strings in the list are joined with a spaced and mapped to the 3rd value in the tuple.\n",
    "    :param acronym_list: list of acronyms\n",
    "    :return: tuple of strings\n",
    "    \"\"\"\n",
    "    if len(acronym_list) == 1:\n",
    "        return acronym_list[0], \"\", \"\"\n",
    "    elif len(acronym_list) == 2:\n",
    "        return acronym_list[0], acronym_list[1], \"\"\n",
    "    else:\n",
    "        return acronym_list[0], acronym_list[1], ' '.join(acronym_list[2:])\n"
   ],
   "metadata": {
    "collapsed": false,
    "ExecuteTime": {
     "end_time": "2023-11-22T17:00:35.050914300Z",
     "start_time": "2023-11-22T17:00:35.026482300Z"
    }
   },
   "id": "385f6e10016a908f"
  },
  {
   "cell_type": "code",
   "execution_count": 5,
   "outputs": [
    {
     "data": {
      "text/plain": "     building  building_new                        address  \\\n1         359           359             Defreggerstraße 8B   \n2         359           359             Defreggerstraße 8B   \n3         359           359             Defreggerstraße 8B   \n4         359           359             Defreggerstraße 8B   \n5         359           359             Defreggerstraße 8B   \n..        ...           ...                            ...   \n477       366           399  Großbeerenstraße 2-10, Haus 3   \n478       399           399  Großbeerenstraße 2-10, Haus 1   \n479       366           399  Großbeerenstraße 2-10, Haus 3   \n480       435           435                   Gebäude #435   \n481       436           436                   Gebäude #436   \n\n                       address_new                  node_id  factor  \\\n1               Defreggerstraße 8B           ZW_ZZ1_rEnergy    1000   \n2               Defreggerstraße 8B           ZW_ZZ2_rEnergy    1000   \n3               Defreggerstraße 8B            ZW_ZZ1_rPower       1   \n4               Defreggerstraße 8B            ZW_ZZ2_rPower       1   \n5               Defreggerstraße 8B      CV_HVS1_rVentStellw       1   \n..                             ...                      ...     ...   \n477  Großbeerenstraße 2-10, Haus 3  Temperatur43_Temperatur       1   \n478  Großbeerenstraße 2-10, Haus 1           ZW_ZZ1_rVolume       1   \n479  Großbeerenstraße 2-10, Haus 3      Primary1_Durchfluss       1   \n480                  Bülowstraße 7               aussentemp       1   \n481             Nollendorfstraße 2               aussentemp       1   \n\n     factor_new unit_getec unit_getec_2   idn  \\\n1        1000.0        MWh          MWh  5144   \n2        1000.0        MWh          MWh  5142   \n3           1.0        NaN            0  5145   \n4           1.0        NaN            0  5139   \n5           1.0        NaN            0  5129   \n..          ...        ...          ...   ...   \n477         1.0         °C           °C  5436   \n478         1.0         m³           m³  5963   \n479         1.0       m3/h         m³/h  5440   \n480         1.0        NaN            0  7898   \n481         1.0        NaN            0  7908   \n\n                             name_cust      gfstandard       acronym_n  \\\n1                          WMZ HK_ival        e_hc1_hm         e_hc_hm   \n2                         WMZ WWB_ival        e_hw1_hm         e_hw_hm   \n3                 WMZ HK Leistung_ival        p_hc1_hm         p_hc_hm   \n4                WMZ WWB Leistung_ival        p_hw1_hm         p_hw_hm   \n5            HK1 Mischerstellwert_ival     r_hc1_valve      r_hc_valve   \n..                                 ...             ...             ...   \n477        Temperatur43_Tempera00_ival  t_gprim_return  t_g_primreturn   \n478  Gaszähler Gesamt Zählerstand_ival          v_g_gm          v_g_gm   \n479       WMZ Gesamt - Durchfluss_ival       vdot_g_hm       vdot_g_hm   \n480                                NaN         t_g_out         t_g_out   \n481                                NaN         t_g_out         t_g_out   \n\n     hydraulic_location_index        current_value       acronym_split  \\\n1                         1.0                933.1         [e, hc, hm]   \n2                         1.0               484.77         [e, hw, hm]   \n3                         1.0                36.74         [p, hc, hm]   \n4                         1.0                15795         [p, hw, hm]   \n5                         1.0  3478-04-27 00:00:00      [r, hc, valve]   \n..                        ...                  ...                 ...   \n477                       NaN                40312  [t, g, primreturn]   \n478                       NaN  3600-03-31 00:00:00          [v, g, gm]   \n479                       NaN                16923       [vdot, g, hm]   \n480                       NaN                  NaN         [t, g, out]   \n481                       NaN                  NaN         [t, g, out]   \n\n    measurement location description  \n1             e       hc          hm  \n2             e       hw          hm  \n3             p       hc          hm  \n4             p       hw          hm  \n5             r       hc       valve  \n..          ...      ...         ...  \n477           t        g  primreturn  \n478           v        g          gm  \n479        vdot        g          hm  \n480           t        g         out  \n481           t        g         out  \n\n[447 rows x 19 columns]",
      "text/html": "<div>\n<style scoped>\n    .dataframe tbody tr th:only-of-type {\n        vertical-align: middle;\n    }\n\n    .dataframe tbody tr th {\n        vertical-align: top;\n    }\n\n    .dataframe thead th {\n        text-align: right;\n    }\n</style>\n<table border=\"1\" class=\"dataframe\">\n  <thead>\n    <tr style=\"text-align: right;\">\n      <th></th>\n      <th>building</th>\n      <th>building_new</th>\n      <th>address</th>\n      <th>address_new</th>\n      <th>node_id</th>\n      <th>factor</th>\n      <th>factor_new</th>\n      <th>unit_getec</th>\n      <th>unit_getec_2</th>\n      <th>idn</th>\n      <th>name_cust</th>\n      <th>gfstandard</th>\n      <th>acronym_n</th>\n      <th>hydraulic_location_index</th>\n      <th>current_value</th>\n      <th>acronym_split</th>\n      <th>measurement</th>\n      <th>location</th>\n      <th>description</th>\n    </tr>\n  </thead>\n  <tbody>\n    <tr>\n      <th>1</th>\n      <td>359</td>\n      <td>359</td>\n      <td>Defreggerstraße 8B</td>\n      <td>Defreggerstraße 8B</td>\n      <td>ZW_ZZ1_rEnergy</td>\n      <td>1000</td>\n      <td>1000.0</td>\n      <td>MWh</td>\n      <td>MWh</td>\n      <td>5144</td>\n      <td>WMZ HK_ival</td>\n      <td>e_hc1_hm</td>\n      <td>e_hc_hm</td>\n      <td>1.0</td>\n      <td>933.1</td>\n      <td>[e, hc, hm]</td>\n      <td>e</td>\n      <td>hc</td>\n      <td>hm</td>\n    </tr>\n    <tr>\n      <th>2</th>\n      <td>359</td>\n      <td>359</td>\n      <td>Defreggerstraße 8B</td>\n      <td>Defreggerstraße 8B</td>\n      <td>ZW_ZZ2_rEnergy</td>\n      <td>1000</td>\n      <td>1000.0</td>\n      <td>MWh</td>\n      <td>MWh</td>\n      <td>5142</td>\n      <td>WMZ WWB_ival</td>\n      <td>e_hw1_hm</td>\n      <td>e_hw_hm</td>\n      <td>1.0</td>\n      <td>484.77</td>\n      <td>[e, hw, hm]</td>\n      <td>e</td>\n      <td>hw</td>\n      <td>hm</td>\n    </tr>\n    <tr>\n      <th>3</th>\n      <td>359</td>\n      <td>359</td>\n      <td>Defreggerstraße 8B</td>\n      <td>Defreggerstraße 8B</td>\n      <td>ZW_ZZ1_rPower</td>\n      <td>1</td>\n      <td>1.0</td>\n      <td>NaN</td>\n      <td>0</td>\n      <td>5145</td>\n      <td>WMZ HK Leistung_ival</td>\n      <td>p_hc1_hm</td>\n      <td>p_hc_hm</td>\n      <td>1.0</td>\n      <td>36.74</td>\n      <td>[p, hc, hm]</td>\n      <td>p</td>\n      <td>hc</td>\n      <td>hm</td>\n    </tr>\n    <tr>\n      <th>4</th>\n      <td>359</td>\n      <td>359</td>\n      <td>Defreggerstraße 8B</td>\n      <td>Defreggerstraße 8B</td>\n      <td>ZW_ZZ2_rPower</td>\n      <td>1</td>\n      <td>1.0</td>\n      <td>NaN</td>\n      <td>0</td>\n      <td>5139</td>\n      <td>WMZ WWB Leistung_ival</td>\n      <td>p_hw1_hm</td>\n      <td>p_hw_hm</td>\n      <td>1.0</td>\n      <td>15795</td>\n      <td>[p, hw, hm]</td>\n      <td>p</td>\n      <td>hw</td>\n      <td>hm</td>\n    </tr>\n    <tr>\n      <th>5</th>\n      <td>359</td>\n      <td>359</td>\n      <td>Defreggerstraße 8B</td>\n      <td>Defreggerstraße 8B</td>\n      <td>CV_HVS1_rVentStellw</td>\n      <td>1</td>\n      <td>1.0</td>\n      <td>NaN</td>\n      <td>0</td>\n      <td>5129</td>\n      <td>HK1 Mischerstellwert_ival</td>\n      <td>r_hc1_valve</td>\n      <td>r_hc_valve</td>\n      <td>1.0</td>\n      <td>3478-04-27 00:00:00</td>\n      <td>[r, hc, valve]</td>\n      <td>r</td>\n      <td>hc</td>\n      <td>valve</td>\n    </tr>\n    <tr>\n      <th>...</th>\n      <td>...</td>\n      <td>...</td>\n      <td>...</td>\n      <td>...</td>\n      <td>...</td>\n      <td>...</td>\n      <td>...</td>\n      <td>...</td>\n      <td>...</td>\n      <td>...</td>\n      <td>...</td>\n      <td>...</td>\n      <td>...</td>\n      <td>...</td>\n      <td>...</td>\n      <td>...</td>\n      <td>...</td>\n      <td>...</td>\n      <td>...</td>\n    </tr>\n    <tr>\n      <th>477</th>\n      <td>366</td>\n      <td>399</td>\n      <td>Großbeerenstraße 2-10, Haus 3</td>\n      <td>Großbeerenstraße 2-10, Haus 3</td>\n      <td>Temperatur43_Temperatur</td>\n      <td>1</td>\n      <td>1.0</td>\n      <td>°C</td>\n      <td>°C</td>\n      <td>5436</td>\n      <td>Temperatur43_Tempera00_ival</td>\n      <td>t_gprim_return</td>\n      <td>t_g_primreturn</td>\n      <td>NaN</td>\n      <td>40312</td>\n      <td>[t, g, primreturn]</td>\n      <td>t</td>\n      <td>g</td>\n      <td>primreturn</td>\n    </tr>\n    <tr>\n      <th>478</th>\n      <td>399</td>\n      <td>399</td>\n      <td>Großbeerenstraße 2-10, Haus 1</td>\n      <td>Großbeerenstraße 2-10, Haus 1</td>\n      <td>ZW_ZZ1_rVolume</td>\n      <td>1</td>\n      <td>1.0</td>\n      <td>m³</td>\n      <td>m³</td>\n      <td>5963</td>\n      <td>Gaszähler Gesamt Zählerstand_ival</td>\n      <td>v_g_gm</td>\n      <td>v_g_gm</td>\n      <td>NaN</td>\n      <td>3600-03-31 00:00:00</td>\n      <td>[v, g, gm]</td>\n      <td>v</td>\n      <td>g</td>\n      <td>gm</td>\n    </tr>\n    <tr>\n      <th>479</th>\n      <td>366</td>\n      <td>399</td>\n      <td>Großbeerenstraße 2-10, Haus 3</td>\n      <td>Großbeerenstraße 2-10, Haus 3</td>\n      <td>Primary1_Durchfluss</td>\n      <td>1</td>\n      <td>1.0</td>\n      <td>m3/h</td>\n      <td>m³/h</td>\n      <td>5440</td>\n      <td>WMZ Gesamt - Durchfluss_ival</td>\n      <td>vdot_g_hm</td>\n      <td>vdot_g_hm</td>\n      <td>NaN</td>\n      <td>16923</td>\n      <td>[vdot, g, hm]</td>\n      <td>vdot</td>\n      <td>g</td>\n      <td>hm</td>\n    </tr>\n    <tr>\n      <th>480</th>\n      <td>435</td>\n      <td>435</td>\n      <td>Gebäude #435</td>\n      <td>Bülowstraße 7</td>\n      <td>aussentemp</td>\n      <td>1</td>\n      <td>1.0</td>\n      <td>NaN</td>\n      <td>0</td>\n      <td>7898</td>\n      <td>NaN</td>\n      <td>t_g_out</td>\n      <td>t_g_out</td>\n      <td>NaN</td>\n      <td>NaN</td>\n      <td>[t, g, out]</td>\n      <td>t</td>\n      <td>g</td>\n      <td>out</td>\n    </tr>\n    <tr>\n      <th>481</th>\n      <td>436</td>\n      <td>436</td>\n      <td>Gebäude #436</td>\n      <td>Nollendorfstraße 2</td>\n      <td>aussentemp</td>\n      <td>1</td>\n      <td>1.0</td>\n      <td>NaN</td>\n      <td>0</td>\n      <td>7908</td>\n      <td>NaN</td>\n      <td>t_g_out</td>\n      <td>t_g_out</td>\n      <td>NaN</td>\n      <td>NaN</td>\n      <td>[t, g, out]</td>\n      <td>t</td>\n      <td>g</td>\n      <td>out</td>\n    </tr>\n  </tbody>\n</table>\n<p>447 rows × 19 columns</p>\n</div>"
     },
     "execution_count": 5,
     "metadata": {},
     "output_type": "execute_result"
    }
   ],
   "source": [
    "measurement, location, description = zip(*df['acronym_split'].apply(convert_list_to_categorical))\n",
    "df['measurement'] = measurement\n",
    "df['location'] = location\n",
    "df['description'] = description\n",
    "df"
   ],
   "metadata": {
    "collapsed": false,
    "ExecuteTime": {
     "end_time": "2023-11-22T17:00:35.088872Z",
     "start_time": "2023-11-22T17:00:35.032722500Z"
    }
   },
   "id": "68668624de85c183"
  },
  {
   "cell_type": "code",
   "execution_count": 6,
   "outputs": [
    {
     "data": {
      "text/plain": "measurement\nt       262\ne        46\nvdot     44\np        39\nr        30\ns        10\nv         9\nb         3\npel       1\nh         1\nc         1\neel       1\nName: count, dtype: int64"
     },
     "execution_count": 6,
     "metadata": {},
     "output_type": "execute_result"
    }
   ],
   "source": [
    "df['measurement'].value_counts()"
   ],
   "metadata": {
    "collapsed": false,
    "ExecuteTime": {
     "end_time": "2023-11-22T17:00:35.089872Z",
     "start_time": "2023-11-22T17:00:35.047770Z"
    }
   },
   "id": "140573156c91467a"
  },
  {
   "cell_type": "code",
   "execution_count": 7,
   "outputs": [
    {
     "data": {
      "text/plain": "location\nhc        198\nhw        137\ng          61\nb          34\nchp        13\nbuffer      4\nName: count, dtype: int64"
     },
     "execution_count": 7,
     "metadata": {},
     "output_type": "execute_result"
    }
   ],
   "source": [
    "df['location'].value_counts()\n"
   ],
   "metadata": {
    "collapsed": false,
    "ExecuteTime": {
     "end_time": "2023-11-22T17:00:35.092872300Z",
     "start_time": "2023-11-22T17:00:35.054961700Z"
    }
   },
   "id": "ff89ac4779af88d9"
  },
  {
   "cell_type": "code",
   "execution_count": 8,
   "outputs": [
    {
     "data": {
      "text/plain": "description\nhm                  126\nflow set             48\nhmflow               44\nflow                 42\nhmreturn             38\nvalve                30\ntank                 18\npwh                  17\nout                  17\nboiler               12\ncirc                 11\ncascflow             11\nreturn               10\ngm                    9\nprimflow              3\nchp                   2\nsecflow               2\ncascreturn            2\noperation full        1\nstarts                1\nem discharge act      1\nsecreturn             1\nprimreturn            1\nName: count, dtype: int64"
     },
     "execution_count": 8,
     "metadata": {},
     "output_type": "execute_result"
    }
   ],
   "source": [
    "df['description'].value_counts()"
   ],
   "metadata": {
    "collapsed": false,
    "ExecuteTime": {
     "end_time": "2023-11-22T17:00:35.112538600Z",
     "start_time": "2023-11-22T17:00:35.062646800Z"
    }
   },
   "id": "de4b4d403b72374f"
  },
  {
   "cell_type": "code",
   "execution_count": 9,
   "outputs": [
    {
     "data": {
      "text/plain": "acronym_n\nt_hc_flow                   32\nt_hc_flow_set               31\nr_hc_valve                  30\ne_hc_hm                     22\nvdot_hc_hm                  21\nt_hc_hmflow                 21\nt_hc_hmreturn               20\np_hc_hm                     19\ne_hw_hm                     19\nt_hw_hmflow                 18\nvdot_hw_hm                  18\nt_g_out                     17\nt_hw_pwh                    17\nt_hw_hmreturn               15\np_hw_hm                     14\nt_hw_tank                   14\nt_g_cascflow                11\nt_hw_circ                   11\nt_b_flow_set                10\ns_b_boiler                  10\nt_b_flow                     9\nv_g_gm                       8\nt_hw_flow_set                7\nt_g_hmflow                   4\nvdot_g_hm                    4\ne_g_hm                       4\nt_hw_return                  4\nt_buffer_tank                4\nt_b_return                   3\nt_g_cascreturn               2\np_b_boiler                   2\nb_g_primflow                 2\nt_g_hmreturn                 2\nt_hc_return                  2\np_g_hm                       2\nc_chp_starts                 1\nt_g_primflow                 1\nt_g_secflow                  1\nt_g_secreturn                1\nb_g_secflow                  1\neel_chp_em_discharge_act     1\nv_chp_gm                     1\ne_chp_hm                     1\nh_chp_operation_full         1\nvdot_chp_hm                  1\nt_chp_flow                   1\nt_chp_return                 1\npel_chp_chp                  1\np_chp_chp                    1\nt_chp_hmreturn               1\np_chp_hm                     1\nt_chp_hmflow                 1\nt_g_primreturn               1\nName: count, dtype: int64"
     },
     "execution_count": 9,
     "metadata": {},
     "output_type": "execute_result"
    }
   ],
   "source": [
    "df[\"acronym_n\"].value_counts()"
   ],
   "metadata": {
    "collapsed": false,
    "ExecuteTime": {
     "end_time": "2023-11-22T17:00:35.131944400Z",
     "start_time": "2023-11-22T17:00:35.069872800Z"
    }
   },
   "id": "fdf95cb929f9df01"
  },
  {
   "cell_type": "code",
   "execution_count": 10,
   "outputs": [],
   "source": [
    "NODE_ID_MAPPINGS = {\n",
    "    \"_r\": \" \",\n",
    "    \"_x\": \" \",\n",
    "    \"_\": \" \",\n",
    "}\n",
    "\n",
    "def preprocess_node_id(node: str,  mappings: dict) -> str:\n",
    "    \"\"\"\n",
    "    :param node: node string to preprocess\n",
    "    :param mappings: dictionary of values to replace\n",
    "    :return: preprocessed node string\n",
    "    \"\"\"\n",
    "    # convert to string\n",
    "    output = str(node)\n",
    "    \n",
    "    # replace from mappings\n",
    "    for key, value in mappings.items():\n",
    "        output = output.replace(key, value)\n",
    "    \n",
    "    \n",
    "    # if the next letter is capitalised, add a space\n",
    "    for i in range(len(output)-1):\n",
    "        if output[i].islower() and output[i+1].isupper():\n",
    "            output = output[:i+1] + \" \" + output[i+1:]\n",
    "    \n",
    "    # if the word \"Temp\" appears, add a space before it\n",
    "    if \"Temp\" in output:\n",
    "        output = output.replace(\"Temp\",\" Temp\")\n",
    "        \n",
    "    # output should be only letters and spaces\n",
    "    output = ''.join([i for i in output if i.isalpha() or i == \" \"])\n",
    "          \n",
    "    # convert any double spaces to single spaces\n",
    "    output = output.replace(\"  \",\" \")\n",
    "    \n",
    "    # lowercase the string\n",
    "    output = output.lower()\n",
    "    \n",
    "    return output"
   ],
   "metadata": {
    "collapsed": false,
    "ExecuteTime": {
     "end_time": "2023-11-22T17:00:35.131944400Z",
     "start_time": "2023-11-22T17:00:35.078568600Z"
    }
   },
   "id": "1f80918950f6ffb2"
  },
  {
   "cell_type": "code",
   "execution_count": 11,
   "outputs": [
    {
     "data": {
      "text/plain": "     building  building_new                        address  \\\n1         359           359             Defreggerstraße 8B   \n2         359           359             Defreggerstraße 8B   \n3         359           359             Defreggerstraße 8B   \n4         359           359             Defreggerstraße 8B   \n5         359           359             Defreggerstraße 8B   \n..        ...           ...                            ...   \n477       366           399  Großbeerenstraße 2-10, Haus 3   \n478       399           399  Großbeerenstraße 2-10, Haus 1   \n479       366           399  Großbeerenstraße 2-10, Haus 3   \n480       435           435                   Gebäude #435   \n481       436           436                   Gebäude #436   \n\n                       address_new                  node_id  factor  \\\n1               Defreggerstraße 8B           ZW_ZZ1_rEnergy    1000   \n2               Defreggerstraße 8B           ZW_ZZ2_rEnergy    1000   \n3               Defreggerstraße 8B            ZW_ZZ1_rPower       1   \n4               Defreggerstraße 8B            ZW_ZZ2_rPower       1   \n5               Defreggerstraße 8B      CV_HVS1_rVentStellw       1   \n..                             ...                      ...     ...   \n477  Großbeerenstraße 2-10, Haus 3  Temperatur43_Temperatur       1   \n478  Großbeerenstraße 2-10, Haus 1           ZW_ZZ1_rVolume       1   \n479  Großbeerenstraße 2-10, Haus 3      Primary1_Durchfluss       1   \n480                  Bülowstraße 7               aussentemp       1   \n481             Nollendorfstraße 2               aussentemp       1   \n\n     factor_new unit_getec unit_getec_2   idn  \\\n1        1000.0        MWh          MWh  5144   \n2        1000.0        MWh          MWh  5142   \n3           1.0        NaN            0  5145   \n4           1.0        NaN            0  5139   \n5           1.0        NaN            0  5129   \n..          ...        ...          ...   ...   \n477         1.0         °C           °C  5436   \n478         1.0         m³           m³  5963   \n479         1.0       m3/h         m³/h  5440   \n480         1.0        NaN            0  7898   \n481         1.0        NaN            0  7908   \n\n                             name_cust      gfstandard       acronym_n  \\\n1                          WMZ HK_ival        e_hc1_hm         e_hc_hm   \n2                         WMZ WWB_ival        e_hw1_hm         e_hw_hm   \n3                 WMZ HK Leistung_ival        p_hc1_hm         p_hc_hm   \n4                WMZ WWB Leistung_ival        p_hw1_hm         p_hw_hm   \n5            HK1 Mischerstellwert_ival     r_hc1_valve      r_hc_valve   \n..                                 ...             ...             ...   \n477        Temperatur43_Tempera00_ival  t_gprim_return  t_g_primreturn   \n478  Gaszähler Gesamt Zählerstand_ival          v_g_gm          v_g_gm   \n479       WMZ Gesamt - Durchfluss_ival       vdot_g_hm       vdot_g_hm   \n480                                NaN         t_g_out         t_g_out   \n481                                NaN         t_g_out         t_g_out   \n\n     hydraulic_location_index        current_value       acronym_split  \\\n1                         1.0                933.1         [e, hc, hm]   \n2                         1.0               484.77         [e, hw, hm]   \n3                         1.0                36.74         [p, hc, hm]   \n4                         1.0                15795         [p, hw, hm]   \n5                         1.0  3478-04-27 00:00:00      [r, hc, valve]   \n..                        ...                  ...                 ...   \n477                       NaN                40312  [t, g, primreturn]   \n478                       NaN  3600-03-31 00:00:00          [v, g, gm]   \n479                       NaN                16923       [vdot, g, hm]   \n480                       NaN                  NaN         [t, g, out]   \n481                       NaN                  NaN         [t, g, out]   \n\n    measurement location description               node_text  \n1             e       hc          hm            zw zz energy  \n2             e       hw          hm            zw zz energy  \n3             p       hc          hm             zw zz power  \n4             p       hw          hm             zw zz power  \n5             r       hc       valve      cv hvs vent stellw  \n..          ...      ...         ...                     ...  \n477           t        g  primreturn   temperatur temperatur  \n478           v        g          gm            zw zz volume  \n479        vdot        g          hm      primary durchfluss  \n480           t        g         out              aussentemp  \n481           t        g         out              aussentemp  \n\n[447 rows x 20 columns]",
      "text/html": "<div>\n<style scoped>\n    .dataframe tbody tr th:only-of-type {\n        vertical-align: middle;\n    }\n\n    .dataframe tbody tr th {\n        vertical-align: top;\n    }\n\n    .dataframe thead th {\n        text-align: right;\n    }\n</style>\n<table border=\"1\" class=\"dataframe\">\n  <thead>\n    <tr style=\"text-align: right;\">\n      <th></th>\n      <th>building</th>\n      <th>building_new</th>\n      <th>address</th>\n      <th>address_new</th>\n      <th>node_id</th>\n      <th>factor</th>\n      <th>factor_new</th>\n      <th>unit_getec</th>\n      <th>unit_getec_2</th>\n      <th>idn</th>\n      <th>name_cust</th>\n      <th>gfstandard</th>\n      <th>acronym_n</th>\n      <th>hydraulic_location_index</th>\n      <th>current_value</th>\n      <th>acronym_split</th>\n      <th>measurement</th>\n      <th>location</th>\n      <th>description</th>\n      <th>node_text</th>\n    </tr>\n  </thead>\n  <tbody>\n    <tr>\n      <th>1</th>\n      <td>359</td>\n      <td>359</td>\n      <td>Defreggerstraße 8B</td>\n      <td>Defreggerstraße 8B</td>\n      <td>ZW_ZZ1_rEnergy</td>\n      <td>1000</td>\n      <td>1000.0</td>\n      <td>MWh</td>\n      <td>MWh</td>\n      <td>5144</td>\n      <td>WMZ HK_ival</td>\n      <td>e_hc1_hm</td>\n      <td>e_hc_hm</td>\n      <td>1.0</td>\n      <td>933.1</td>\n      <td>[e, hc, hm]</td>\n      <td>e</td>\n      <td>hc</td>\n      <td>hm</td>\n      <td>zw zz energy</td>\n    </tr>\n    <tr>\n      <th>2</th>\n      <td>359</td>\n      <td>359</td>\n      <td>Defreggerstraße 8B</td>\n      <td>Defreggerstraße 8B</td>\n      <td>ZW_ZZ2_rEnergy</td>\n      <td>1000</td>\n      <td>1000.0</td>\n      <td>MWh</td>\n      <td>MWh</td>\n      <td>5142</td>\n      <td>WMZ WWB_ival</td>\n      <td>e_hw1_hm</td>\n      <td>e_hw_hm</td>\n      <td>1.0</td>\n      <td>484.77</td>\n      <td>[e, hw, hm]</td>\n      <td>e</td>\n      <td>hw</td>\n      <td>hm</td>\n      <td>zw zz energy</td>\n    </tr>\n    <tr>\n      <th>3</th>\n      <td>359</td>\n      <td>359</td>\n      <td>Defreggerstraße 8B</td>\n      <td>Defreggerstraße 8B</td>\n      <td>ZW_ZZ1_rPower</td>\n      <td>1</td>\n      <td>1.0</td>\n      <td>NaN</td>\n      <td>0</td>\n      <td>5145</td>\n      <td>WMZ HK Leistung_ival</td>\n      <td>p_hc1_hm</td>\n      <td>p_hc_hm</td>\n      <td>1.0</td>\n      <td>36.74</td>\n      <td>[p, hc, hm]</td>\n      <td>p</td>\n      <td>hc</td>\n      <td>hm</td>\n      <td>zw zz power</td>\n    </tr>\n    <tr>\n      <th>4</th>\n      <td>359</td>\n      <td>359</td>\n      <td>Defreggerstraße 8B</td>\n      <td>Defreggerstraße 8B</td>\n      <td>ZW_ZZ2_rPower</td>\n      <td>1</td>\n      <td>1.0</td>\n      <td>NaN</td>\n      <td>0</td>\n      <td>5139</td>\n      <td>WMZ WWB Leistung_ival</td>\n      <td>p_hw1_hm</td>\n      <td>p_hw_hm</td>\n      <td>1.0</td>\n      <td>15795</td>\n      <td>[p, hw, hm]</td>\n      <td>p</td>\n      <td>hw</td>\n      <td>hm</td>\n      <td>zw zz power</td>\n    </tr>\n    <tr>\n      <th>5</th>\n      <td>359</td>\n      <td>359</td>\n      <td>Defreggerstraße 8B</td>\n      <td>Defreggerstraße 8B</td>\n      <td>CV_HVS1_rVentStellw</td>\n      <td>1</td>\n      <td>1.0</td>\n      <td>NaN</td>\n      <td>0</td>\n      <td>5129</td>\n      <td>HK1 Mischerstellwert_ival</td>\n      <td>r_hc1_valve</td>\n      <td>r_hc_valve</td>\n      <td>1.0</td>\n      <td>3478-04-27 00:00:00</td>\n      <td>[r, hc, valve]</td>\n      <td>r</td>\n      <td>hc</td>\n      <td>valve</td>\n      <td>cv hvs vent stellw</td>\n    </tr>\n    <tr>\n      <th>...</th>\n      <td>...</td>\n      <td>...</td>\n      <td>...</td>\n      <td>...</td>\n      <td>...</td>\n      <td>...</td>\n      <td>...</td>\n      <td>...</td>\n      <td>...</td>\n      <td>...</td>\n      <td>...</td>\n      <td>...</td>\n      <td>...</td>\n      <td>...</td>\n      <td>...</td>\n      <td>...</td>\n      <td>...</td>\n      <td>...</td>\n      <td>...</td>\n      <td>...</td>\n    </tr>\n    <tr>\n      <th>477</th>\n      <td>366</td>\n      <td>399</td>\n      <td>Großbeerenstraße 2-10, Haus 3</td>\n      <td>Großbeerenstraße 2-10, Haus 3</td>\n      <td>Temperatur43_Temperatur</td>\n      <td>1</td>\n      <td>1.0</td>\n      <td>°C</td>\n      <td>°C</td>\n      <td>5436</td>\n      <td>Temperatur43_Tempera00_ival</td>\n      <td>t_gprim_return</td>\n      <td>t_g_primreturn</td>\n      <td>NaN</td>\n      <td>40312</td>\n      <td>[t, g, primreturn]</td>\n      <td>t</td>\n      <td>g</td>\n      <td>primreturn</td>\n      <td>temperatur temperatur</td>\n    </tr>\n    <tr>\n      <th>478</th>\n      <td>399</td>\n      <td>399</td>\n      <td>Großbeerenstraße 2-10, Haus 1</td>\n      <td>Großbeerenstraße 2-10, Haus 1</td>\n      <td>ZW_ZZ1_rVolume</td>\n      <td>1</td>\n      <td>1.0</td>\n      <td>m³</td>\n      <td>m³</td>\n      <td>5963</td>\n      <td>Gaszähler Gesamt Zählerstand_ival</td>\n      <td>v_g_gm</td>\n      <td>v_g_gm</td>\n      <td>NaN</td>\n      <td>3600-03-31 00:00:00</td>\n      <td>[v, g, gm]</td>\n      <td>v</td>\n      <td>g</td>\n      <td>gm</td>\n      <td>zw zz volume</td>\n    </tr>\n    <tr>\n      <th>479</th>\n      <td>366</td>\n      <td>399</td>\n      <td>Großbeerenstraße 2-10, Haus 3</td>\n      <td>Großbeerenstraße 2-10, Haus 3</td>\n      <td>Primary1_Durchfluss</td>\n      <td>1</td>\n      <td>1.0</td>\n      <td>m3/h</td>\n      <td>m³/h</td>\n      <td>5440</td>\n      <td>WMZ Gesamt - Durchfluss_ival</td>\n      <td>vdot_g_hm</td>\n      <td>vdot_g_hm</td>\n      <td>NaN</td>\n      <td>16923</td>\n      <td>[vdot, g, hm]</td>\n      <td>vdot</td>\n      <td>g</td>\n      <td>hm</td>\n      <td>primary durchfluss</td>\n    </tr>\n    <tr>\n      <th>480</th>\n      <td>435</td>\n      <td>435</td>\n      <td>Gebäude #435</td>\n      <td>Bülowstraße 7</td>\n      <td>aussentemp</td>\n      <td>1</td>\n      <td>1.0</td>\n      <td>NaN</td>\n      <td>0</td>\n      <td>7898</td>\n      <td>NaN</td>\n      <td>t_g_out</td>\n      <td>t_g_out</td>\n      <td>NaN</td>\n      <td>NaN</td>\n      <td>[t, g, out]</td>\n      <td>t</td>\n      <td>g</td>\n      <td>out</td>\n      <td>aussentemp</td>\n    </tr>\n    <tr>\n      <th>481</th>\n      <td>436</td>\n      <td>436</td>\n      <td>Gebäude #436</td>\n      <td>Nollendorfstraße 2</td>\n      <td>aussentemp</td>\n      <td>1</td>\n      <td>1.0</td>\n      <td>NaN</td>\n      <td>0</td>\n      <td>7908</td>\n      <td>NaN</td>\n      <td>t_g_out</td>\n      <td>t_g_out</td>\n      <td>NaN</td>\n      <td>NaN</td>\n      <td>[t, g, out]</td>\n      <td>t</td>\n      <td>g</td>\n      <td>out</td>\n      <td>aussentemp</td>\n    </tr>\n  </tbody>\n</table>\n<p>447 rows × 20 columns</p>\n</div>"
     },
     "execution_count": 11,
     "metadata": {},
     "output_type": "execute_result"
    }
   ],
   "source": [
    "df['node_text'] = df['node_id'].apply(preprocess_node_id, args=(NODE_ID_MAPPINGS,))\n",
    "df"
   ],
   "metadata": {
    "collapsed": false,
    "ExecuteTime": {
     "end_time": "2023-11-22T17:00:35.153505600Z",
     "start_time": "2023-11-22T17:00:35.083347600Z"
    }
   },
   "id": "fb1e94f7441f7307"
  },
  {
   "cell_type": "code",
   "execution_count": 12,
   "outputs": [],
   "source": [
    "NAME_CUST_DICT = {\n",
    "    \"_ival\": \"\",\n",
    "    \".ival\": \"\",\n",
    "    \"ival\": \"\",\n",
    "    \"_\": \" \",\n",
    "}\n",
    "def preprocess_name_cust(name_cust: str, mappings: dict) -> str:\n",
    "    \"\"\"\n",
    "    Preprocesses a name_cust string by removing the str '(n)' from the name_cust string\n",
    "    :param name_cust: name_cust string to preprocess\n",
    "    :param mappings: dictionary of values to replace\n",
    "    :return: preprocessed name_cust string\n",
    "    \"\"\"\n",
    "    # convert to string\n",
    "    output = str(name_cust)\n",
    "    \n",
    " \n",
    "    # replace values from conversion_dict\n",
    "    for key, value in mappings.items():\n",
    "        output = output.replace(key, value)\n",
    "    \n",
    "    # output should be only letters and spaces\n",
    "    output = ''.join([i for i in output if i.isalpha() or i == \" \"])\n",
    "    \n",
    "    # convert any double spaces to single spaces\n",
    "    output = output.replace(\"  \",\" \")\n",
    "    \n",
    "    # lowercase the string\n",
    "    output = output.lower()\n",
    "    \n",
    "    return output"
   ],
   "metadata": {
    "collapsed": false,
    "ExecuteTime": {
     "end_time": "2023-11-22T17:00:35.153505600Z",
     "start_time": "2023-11-22T17:00:35.102078200Z"
    }
   },
   "id": "ce97b63e34bd38ac"
  },
  {
   "cell_type": "code",
   "execution_count": 13,
   "outputs": [
    {
     "data": {
      "text/plain": "     building  building_new                        address  \\\n1         359           359             Defreggerstraße 8B   \n2         359           359             Defreggerstraße 8B   \n3         359           359             Defreggerstraße 8B   \n4         359           359             Defreggerstraße 8B   \n5         359           359             Defreggerstraße 8B   \n..        ...           ...                            ...   \n477       366           399  Großbeerenstraße 2-10, Haus 3   \n478       399           399  Großbeerenstraße 2-10, Haus 1   \n479       366           399  Großbeerenstraße 2-10, Haus 3   \n480       435           435                   Gebäude #435   \n481       436           436                   Gebäude #436   \n\n                       address_new                  node_id  factor  \\\n1               Defreggerstraße 8B           ZW_ZZ1_rEnergy    1000   \n2               Defreggerstraße 8B           ZW_ZZ2_rEnergy    1000   \n3               Defreggerstraße 8B            ZW_ZZ1_rPower       1   \n4               Defreggerstraße 8B            ZW_ZZ2_rPower       1   \n5               Defreggerstraße 8B      CV_HVS1_rVentStellw       1   \n..                             ...                      ...     ...   \n477  Großbeerenstraße 2-10, Haus 3  Temperatur43_Temperatur       1   \n478  Großbeerenstraße 2-10, Haus 1           ZW_ZZ1_rVolume       1   \n479  Großbeerenstraße 2-10, Haus 3      Primary1_Durchfluss       1   \n480                  Bülowstraße 7               aussentemp       1   \n481             Nollendorfstraße 2               aussentemp       1   \n\n     factor_new unit_getec unit_getec_2   idn  ...      gfstandard  \\\n1        1000.0        MWh          MWh  5144  ...        e_hc1_hm   \n2        1000.0        MWh          MWh  5142  ...        e_hw1_hm   \n3           1.0        NaN            0  5145  ...        p_hc1_hm   \n4           1.0        NaN            0  5139  ...        p_hw1_hm   \n5           1.0        NaN            0  5129  ...     r_hc1_valve   \n..          ...        ...          ...   ...  ...             ...   \n477         1.0         °C           °C  5436  ...  t_gprim_return   \n478         1.0         m³           m³  5963  ...          v_g_gm   \n479         1.0       m3/h         m³/h  5440  ...       vdot_g_hm   \n480         1.0        NaN            0  7898  ...         t_g_out   \n481         1.0        NaN            0  7908  ...         t_g_out   \n\n          acronym_n hydraulic_location_index        current_value  \\\n1           e_hc_hm                      1.0                933.1   \n2           e_hw_hm                      1.0               484.77   \n3           p_hc_hm                      1.0                36.74   \n4           p_hw_hm                      1.0                15795   \n5        r_hc_valve                      1.0  3478-04-27 00:00:00   \n..              ...                      ...                  ...   \n477  t_g_primreturn                      NaN                40312   \n478          v_g_gm                      NaN  3600-03-31 00:00:00   \n479       vdot_g_hm                      NaN                16923   \n480         t_g_out                      NaN                  NaN   \n481         t_g_out                      NaN                  NaN   \n\n          acronym_split measurement location description  \\\n1           [e, hc, hm]           e       hc          hm   \n2           [e, hw, hm]           e       hw          hm   \n3           [p, hc, hm]           p       hc          hm   \n4           [p, hw, hm]           p       hw          hm   \n5        [r, hc, valve]           r       hc       valve   \n..                  ...         ...      ...         ...   \n477  [t, g, primreturn]           t        g  primreturn   \n478          [v, g, gm]           v        g          gm   \n479       [vdot, g, hm]        vdot        g          hm   \n480         [t, g, out]           t        g         out   \n481         [t, g, out]           t        g         out   \n\n                  node_text                name_cust_text  \n1              zw zz energy                        wmz hk  \n2              zw zz energy                       wmz wwb  \n3               zw zz power               wmz hk leistung  \n4               zw zz power              wmz wwb leistung  \n5        cv hvs vent stellw           hk mischerstellwert  \n..                      ...                           ...  \n477   temperatur temperatur            temperatur tempera  \n478            zw zz volume  gaszähler gesamt zählerstand  \n479      primary durchfluss         wmz gesamt durchfluss  \n480              aussentemp                           nan  \n481              aussentemp                           nan  \n\n[447 rows x 21 columns]",
      "text/html": "<div>\n<style scoped>\n    .dataframe tbody tr th:only-of-type {\n        vertical-align: middle;\n    }\n\n    .dataframe tbody tr th {\n        vertical-align: top;\n    }\n\n    .dataframe thead th {\n        text-align: right;\n    }\n</style>\n<table border=\"1\" class=\"dataframe\">\n  <thead>\n    <tr style=\"text-align: right;\">\n      <th></th>\n      <th>building</th>\n      <th>building_new</th>\n      <th>address</th>\n      <th>address_new</th>\n      <th>node_id</th>\n      <th>factor</th>\n      <th>factor_new</th>\n      <th>unit_getec</th>\n      <th>unit_getec_2</th>\n      <th>idn</th>\n      <th>...</th>\n      <th>gfstandard</th>\n      <th>acronym_n</th>\n      <th>hydraulic_location_index</th>\n      <th>current_value</th>\n      <th>acronym_split</th>\n      <th>measurement</th>\n      <th>location</th>\n      <th>description</th>\n      <th>node_text</th>\n      <th>name_cust_text</th>\n    </tr>\n  </thead>\n  <tbody>\n    <tr>\n      <th>1</th>\n      <td>359</td>\n      <td>359</td>\n      <td>Defreggerstraße 8B</td>\n      <td>Defreggerstraße 8B</td>\n      <td>ZW_ZZ1_rEnergy</td>\n      <td>1000</td>\n      <td>1000.0</td>\n      <td>MWh</td>\n      <td>MWh</td>\n      <td>5144</td>\n      <td>...</td>\n      <td>e_hc1_hm</td>\n      <td>e_hc_hm</td>\n      <td>1.0</td>\n      <td>933.1</td>\n      <td>[e, hc, hm]</td>\n      <td>e</td>\n      <td>hc</td>\n      <td>hm</td>\n      <td>zw zz energy</td>\n      <td>wmz hk</td>\n    </tr>\n    <tr>\n      <th>2</th>\n      <td>359</td>\n      <td>359</td>\n      <td>Defreggerstraße 8B</td>\n      <td>Defreggerstraße 8B</td>\n      <td>ZW_ZZ2_rEnergy</td>\n      <td>1000</td>\n      <td>1000.0</td>\n      <td>MWh</td>\n      <td>MWh</td>\n      <td>5142</td>\n      <td>...</td>\n      <td>e_hw1_hm</td>\n      <td>e_hw_hm</td>\n      <td>1.0</td>\n      <td>484.77</td>\n      <td>[e, hw, hm]</td>\n      <td>e</td>\n      <td>hw</td>\n      <td>hm</td>\n      <td>zw zz energy</td>\n      <td>wmz wwb</td>\n    </tr>\n    <tr>\n      <th>3</th>\n      <td>359</td>\n      <td>359</td>\n      <td>Defreggerstraße 8B</td>\n      <td>Defreggerstraße 8B</td>\n      <td>ZW_ZZ1_rPower</td>\n      <td>1</td>\n      <td>1.0</td>\n      <td>NaN</td>\n      <td>0</td>\n      <td>5145</td>\n      <td>...</td>\n      <td>p_hc1_hm</td>\n      <td>p_hc_hm</td>\n      <td>1.0</td>\n      <td>36.74</td>\n      <td>[p, hc, hm]</td>\n      <td>p</td>\n      <td>hc</td>\n      <td>hm</td>\n      <td>zw zz power</td>\n      <td>wmz hk leistung</td>\n    </tr>\n    <tr>\n      <th>4</th>\n      <td>359</td>\n      <td>359</td>\n      <td>Defreggerstraße 8B</td>\n      <td>Defreggerstraße 8B</td>\n      <td>ZW_ZZ2_rPower</td>\n      <td>1</td>\n      <td>1.0</td>\n      <td>NaN</td>\n      <td>0</td>\n      <td>5139</td>\n      <td>...</td>\n      <td>p_hw1_hm</td>\n      <td>p_hw_hm</td>\n      <td>1.0</td>\n      <td>15795</td>\n      <td>[p, hw, hm]</td>\n      <td>p</td>\n      <td>hw</td>\n      <td>hm</td>\n      <td>zw zz power</td>\n      <td>wmz wwb leistung</td>\n    </tr>\n    <tr>\n      <th>5</th>\n      <td>359</td>\n      <td>359</td>\n      <td>Defreggerstraße 8B</td>\n      <td>Defreggerstraße 8B</td>\n      <td>CV_HVS1_rVentStellw</td>\n      <td>1</td>\n      <td>1.0</td>\n      <td>NaN</td>\n      <td>0</td>\n      <td>5129</td>\n      <td>...</td>\n      <td>r_hc1_valve</td>\n      <td>r_hc_valve</td>\n      <td>1.0</td>\n      <td>3478-04-27 00:00:00</td>\n      <td>[r, hc, valve]</td>\n      <td>r</td>\n      <td>hc</td>\n      <td>valve</td>\n      <td>cv hvs vent stellw</td>\n      <td>hk mischerstellwert</td>\n    </tr>\n    <tr>\n      <th>...</th>\n      <td>...</td>\n      <td>...</td>\n      <td>...</td>\n      <td>...</td>\n      <td>...</td>\n      <td>...</td>\n      <td>...</td>\n      <td>...</td>\n      <td>...</td>\n      <td>...</td>\n      <td>...</td>\n      <td>...</td>\n      <td>...</td>\n      <td>...</td>\n      <td>...</td>\n      <td>...</td>\n      <td>...</td>\n      <td>...</td>\n      <td>...</td>\n      <td>...</td>\n      <td>...</td>\n    </tr>\n    <tr>\n      <th>477</th>\n      <td>366</td>\n      <td>399</td>\n      <td>Großbeerenstraße 2-10, Haus 3</td>\n      <td>Großbeerenstraße 2-10, Haus 3</td>\n      <td>Temperatur43_Temperatur</td>\n      <td>1</td>\n      <td>1.0</td>\n      <td>°C</td>\n      <td>°C</td>\n      <td>5436</td>\n      <td>...</td>\n      <td>t_gprim_return</td>\n      <td>t_g_primreturn</td>\n      <td>NaN</td>\n      <td>40312</td>\n      <td>[t, g, primreturn]</td>\n      <td>t</td>\n      <td>g</td>\n      <td>primreturn</td>\n      <td>temperatur temperatur</td>\n      <td>temperatur tempera</td>\n    </tr>\n    <tr>\n      <th>478</th>\n      <td>399</td>\n      <td>399</td>\n      <td>Großbeerenstraße 2-10, Haus 1</td>\n      <td>Großbeerenstraße 2-10, Haus 1</td>\n      <td>ZW_ZZ1_rVolume</td>\n      <td>1</td>\n      <td>1.0</td>\n      <td>m³</td>\n      <td>m³</td>\n      <td>5963</td>\n      <td>...</td>\n      <td>v_g_gm</td>\n      <td>v_g_gm</td>\n      <td>NaN</td>\n      <td>3600-03-31 00:00:00</td>\n      <td>[v, g, gm]</td>\n      <td>v</td>\n      <td>g</td>\n      <td>gm</td>\n      <td>zw zz volume</td>\n      <td>gaszähler gesamt zählerstand</td>\n    </tr>\n    <tr>\n      <th>479</th>\n      <td>366</td>\n      <td>399</td>\n      <td>Großbeerenstraße 2-10, Haus 3</td>\n      <td>Großbeerenstraße 2-10, Haus 3</td>\n      <td>Primary1_Durchfluss</td>\n      <td>1</td>\n      <td>1.0</td>\n      <td>m3/h</td>\n      <td>m³/h</td>\n      <td>5440</td>\n      <td>...</td>\n      <td>vdot_g_hm</td>\n      <td>vdot_g_hm</td>\n      <td>NaN</td>\n      <td>16923</td>\n      <td>[vdot, g, hm]</td>\n      <td>vdot</td>\n      <td>g</td>\n      <td>hm</td>\n      <td>primary durchfluss</td>\n      <td>wmz gesamt durchfluss</td>\n    </tr>\n    <tr>\n      <th>480</th>\n      <td>435</td>\n      <td>435</td>\n      <td>Gebäude #435</td>\n      <td>Bülowstraße 7</td>\n      <td>aussentemp</td>\n      <td>1</td>\n      <td>1.0</td>\n      <td>NaN</td>\n      <td>0</td>\n      <td>7898</td>\n      <td>...</td>\n      <td>t_g_out</td>\n      <td>t_g_out</td>\n      <td>NaN</td>\n      <td>NaN</td>\n      <td>[t, g, out]</td>\n      <td>t</td>\n      <td>g</td>\n      <td>out</td>\n      <td>aussentemp</td>\n      <td>nan</td>\n    </tr>\n    <tr>\n      <th>481</th>\n      <td>436</td>\n      <td>436</td>\n      <td>Gebäude #436</td>\n      <td>Nollendorfstraße 2</td>\n      <td>aussentemp</td>\n      <td>1</td>\n      <td>1.0</td>\n      <td>NaN</td>\n      <td>0</td>\n      <td>7908</td>\n      <td>...</td>\n      <td>t_g_out</td>\n      <td>t_g_out</td>\n      <td>NaN</td>\n      <td>NaN</td>\n      <td>[t, g, out]</td>\n      <td>t</td>\n      <td>g</td>\n      <td>out</td>\n      <td>aussentemp</td>\n      <td>nan</td>\n    </tr>\n  </tbody>\n</table>\n<p>447 rows × 21 columns</p>\n</div>"
     },
     "execution_count": 13,
     "metadata": {},
     "output_type": "execute_result"
    }
   ],
   "source": [
    "df['name_cust_text'] = df['name_cust'].apply(preprocess_name_cust, args=(NAME_CUST_DICT,))\n",
    "df"
   ],
   "metadata": {
    "collapsed": false,
    "ExecuteTime": {
     "end_time": "2023-11-22T17:00:35.163946Z",
     "start_time": "2023-11-22T17:00:35.106508200Z"
    }
   },
   "id": "c11b2b577666796c"
  },
  {
   "cell_type": "code",
   "execution_count": 14,
   "outputs": [],
   "source": [
    "GENERAL_MAPPINGS = {\n",
    "    \"wmz\": \"wärmemengenzähler\",\n",
    "    \"wwb\": \"wasserwerkbereiter\",\n",
    "    \"hk\": \"heizkreis\",\n",
    "    \"temp\": \"temperatur\",\n",
    "    \"nan\": \"nicht bekannt\",\n",
    "}\n",
    "def replace_to_full_words(text: str, mappings: dict) -> str:\n",
    "    \n",
    "    output = str(text)\n",
    "    \n",
    "    # lowercase the string just in case\n",
    "    output = output.lower()\n",
    "    \n",
    "    for key, value in mappings.items():\n",
    "        output = output.replace(key, value)\n",
    "    \n",
    "    return output\n",
    "    "
   ],
   "metadata": {
    "collapsed": false,
    "ExecuteTime": {
     "end_time": "2023-11-22T17:00:35.164948700Z",
     "start_time": "2023-11-22T17:00:35.124729300Z"
    }
   },
   "id": "a2f5af374b83292e"
  },
  {
   "cell_type": "code",
   "execution_count": 15,
   "outputs": [
    {
     "data": {
      "text/plain": "     building  building_new                        address  \\\n1         359           359             Defreggerstraße 8B   \n2         359           359             Defreggerstraße 8B   \n3         359           359             Defreggerstraße 8B   \n4         359           359             Defreggerstraße 8B   \n5         359           359             Defreggerstraße 8B   \n..        ...           ...                            ...   \n477       366           399  Großbeerenstraße 2-10, Haus 3   \n478       399           399  Großbeerenstraße 2-10, Haus 1   \n479       366           399  Großbeerenstraße 2-10, Haus 3   \n480       435           435                   Gebäude #435   \n481       436           436                   Gebäude #436   \n\n                       address_new                  node_id  factor  \\\n1               Defreggerstraße 8B           ZW_ZZ1_rEnergy    1000   \n2               Defreggerstraße 8B           ZW_ZZ2_rEnergy    1000   \n3               Defreggerstraße 8B            ZW_ZZ1_rPower       1   \n4               Defreggerstraße 8B            ZW_ZZ2_rPower       1   \n5               Defreggerstraße 8B      CV_HVS1_rVentStellw       1   \n..                             ...                      ...     ...   \n477  Großbeerenstraße 2-10, Haus 3  Temperatur43_Temperatur       1   \n478  Großbeerenstraße 2-10, Haus 1           ZW_ZZ1_rVolume       1   \n479  Großbeerenstraße 2-10, Haus 3      Primary1_Durchfluss       1   \n480                  Bülowstraße 7               aussentemp       1   \n481             Nollendorfstraße 2               aussentemp       1   \n\n     factor_new unit_getec unit_getec_2   idn  ...      gfstandard  \\\n1        1000.0        MWh          MWh  5144  ...        e_hc1_hm   \n2        1000.0        MWh          MWh  5142  ...        e_hw1_hm   \n3           1.0        NaN            0  5145  ...        p_hc1_hm   \n4           1.0        NaN            0  5139  ...        p_hw1_hm   \n5           1.0        NaN            0  5129  ...     r_hc1_valve   \n..          ...        ...          ...   ...  ...             ...   \n477         1.0         °C           °C  5436  ...  t_gprim_return   \n478         1.0         m³           m³  5963  ...          v_g_gm   \n479         1.0       m3/h         m³/h  5440  ...       vdot_g_hm   \n480         1.0        NaN            0  7898  ...         t_g_out   \n481         1.0        NaN            0  7908  ...         t_g_out   \n\n          acronym_n hydraulic_location_index        current_value  \\\n1           e_hc_hm                      1.0                933.1   \n2           e_hw_hm                      1.0               484.77   \n3           p_hc_hm                      1.0                36.74   \n4           p_hw_hm                      1.0                15795   \n5        r_hc_valve                      1.0  3478-04-27 00:00:00   \n..              ...                      ...                  ...   \n477  t_g_primreturn                      NaN                40312   \n478          v_g_gm                      NaN  3600-03-31 00:00:00   \n479       vdot_g_hm                      NaN                16923   \n480         t_g_out                      NaN                  NaN   \n481         t_g_out                      NaN                  NaN   \n\n          acronym_split measurement location description  \\\n1           [e, hc, hm]           e       hc          hm   \n2           [e, hw, hm]           e       hw          hm   \n3           [p, hc, hm]           p       hc          hm   \n4           [p, hw, hm]           p       hw          hm   \n5        [r, hc, valve]           r       hc       valve   \n..                  ...         ...      ...         ...   \n477  [t, g, primreturn]           t        g  primreturn   \n478          [v, g, gm]           v        g          gm   \n479       [vdot, g, hm]        vdot        g          hm   \n480         [t, g, out]           t        g         out   \n481         [t, g, out]           t        g         out   \n\n                              node_text  \\\n1                          zw zz energy   \n2                          zw zz energy   \n3                           zw zz power   \n4                           zw zz power   \n5                    cv hvs vent stellw   \n..                                  ...   \n477   temperatureratur temperatureratur   \n478                        zw zz volume   \n479                  primary durchfluss   \n480                    aussentemperatur   \n481                    aussentemperatur   \n\n                                    name_cust_text  \n1                      wärmemengenzähler heizkreis  \n2             wärmemengenzähler wasserwerkbereiter  \n3             wärmemengenzähler heizkreis leistung  \n4    wärmemengenzähler wasserwerkbereiter leistung  \n5                       heizkreis mischerstellwert  \n..                                             ...  \n477                 temperatureratur temperaturera  \n478                   gaszähler gesamt zählerstand  \n479            wärmemengenzähler gesamt durchfluss  \n480                                  nicht bekannt  \n481                                  nicht bekannt  \n\n[447 rows x 21 columns]",
      "text/html": "<div>\n<style scoped>\n    .dataframe tbody tr th:only-of-type {\n        vertical-align: middle;\n    }\n\n    .dataframe tbody tr th {\n        vertical-align: top;\n    }\n\n    .dataframe thead th {\n        text-align: right;\n    }\n</style>\n<table border=\"1\" class=\"dataframe\">\n  <thead>\n    <tr style=\"text-align: right;\">\n      <th></th>\n      <th>building</th>\n      <th>building_new</th>\n      <th>address</th>\n      <th>address_new</th>\n      <th>node_id</th>\n      <th>factor</th>\n      <th>factor_new</th>\n      <th>unit_getec</th>\n      <th>unit_getec_2</th>\n      <th>idn</th>\n      <th>...</th>\n      <th>gfstandard</th>\n      <th>acronym_n</th>\n      <th>hydraulic_location_index</th>\n      <th>current_value</th>\n      <th>acronym_split</th>\n      <th>measurement</th>\n      <th>location</th>\n      <th>description</th>\n      <th>node_text</th>\n      <th>name_cust_text</th>\n    </tr>\n  </thead>\n  <tbody>\n    <tr>\n      <th>1</th>\n      <td>359</td>\n      <td>359</td>\n      <td>Defreggerstraße 8B</td>\n      <td>Defreggerstraße 8B</td>\n      <td>ZW_ZZ1_rEnergy</td>\n      <td>1000</td>\n      <td>1000.0</td>\n      <td>MWh</td>\n      <td>MWh</td>\n      <td>5144</td>\n      <td>...</td>\n      <td>e_hc1_hm</td>\n      <td>e_hc_hm</td>\n      <td>1.0</td>\n      <td>933.1</td>\n      <td>[e, hc, hm]</td>\n      <td>e</td>\n      <td>hc</td>\n      <td>hm</td>\n      <td>zw zz energy</td>\n      <td>wärmemengenzähler heizkreis</td>\n    </tr>\n    <tr>\n      <th>2</th>\n      <td>359</td>\n      <td>359</td>\n      <td>Defreggerstraße 8B</td>\n      <td>Defreggerstraße 8B</td>\n      <td>ZW_ZZ2_rEnergy</td>\n      <td>1000</td>\n      <td>1000.0</td>\n      <td>MWh</td>\n      <td>MWh</td>\n      <td>5142</td>\n      <td>...</td>\n      <td>e_hw1_hm</td>\n      <td>e_hw_hm</td>\n      <td>1.0</td>\n      <td>484.77</td>\n      <td>[e, hw, hm]</td>\n      <td>e</td>\n      <td>hw</td>\n      <td>hm</td>\n      <td>zw zz energy</td>\n      <td>wärmemengenzähler wasserwerkbereiter</td>\n    </tr>\n    <tr>\n      <th>3</th>\n      <td>359</td>\n      <td>359</td>\n      <td>Defreggerstraße 8B</td>\n      <td>Defreggerstraße 8B</td>\n      <td>ZW_ZZ1_rPower</td>\n      <td>1</td>\n      <td>1.0</td>\n      <td>NaN</td>\n      <td>0</td>\n      <td>5145</td>\n      <td>...</td>\n      <td>p_hc1_hm</td>\n      <td>p_hc_hm</td>\n      <td>1.0</td>\n      <td>36.74</td>\n      <td>[p, hc, hm]</td>\n      <td>p</td>\n      <td>hc</td>\n      <td>hm</td>\n      <td>zw zz power</td>\n      <td>wärmemengenzähler heizkreis leistung</td>\n    </tr>\n    <tr>\n      <th>4</th>\n      <td>359</td>\n      <td>359</td>\n      <td>Defreggerstraße 8B</td>\n      <td>Defreggerstraße 8B</td>\n      <td>ZW_ZZ2_rPower</td>\n      <td>1</td>\n      <td>1.0</td>\n      <td>NaN</td>\n      <td>0</td>\n      <td>5139</td>\n      <td>...</td>\n      <td>p_hw1_hm</td>\n      <td>p_hw_hm</td>\n      <td>1.0</td>\n      <td>15795</td>\n      <td>[p, hw, hm]</td>\n      <td>p</td>\n      <td>hw</td>\n      <td>hm</td>\n      <td>zw zz power</td>\n      <td>wärmemengenzähler wasserwerkbereiter leistung</td>\n    </tr>\n    <tr>\n      <th>5</th>\n      <td>359</td>\n      <td>359</td>\n      <td>Defreggerstraße 8B</td>\n      <td>Defreggerstraße 8B</td>\n      <td>CV_HVS1_rVentStellw</td>\n      <td>1</td>\n      <td>1.0</td>\n      <td>NaN</td>\n      <td>0</td>\n      <td>5129</td>\n      <td>...</td>\n      <td>r_hc1_valve</td>\n      <td>r_hc_valve</td>\n      <td>1.0</td>\n      <td>3478-04-27 00:00:00</td>\n      <td>[r, hc, valve]</td>\n      <td>r</td>\n      <td>hc</td>\n      <td>valve</td>\n      <td>cv hvs vent stellw</td>\n      <td>heizkreis mischerstellwert</td>\n    </tr>\n    <tr>\n      <th>...</th>\n      <td>...</td>\n      <td>...</td>\n      <td>...</td>\n      <td>...</td>\n      <td>...</td>\n      <td>...</td>\n      <td>...</td>\n      <td>...</td>\n      <td>...</td>\n      <td>...</td>\n      <td>...</td>\n      <td>...</td>\n      <td>...</td>\n      <td>...</td>\n      <td>...</td>\n      <td>...</td>\n      <td>...</td>\n      <td>...</td>\n      <td>...</td>\n      <td>...</td>\n      <td>...</td>\n    </tr>\n    <tr>\n      <th>477</th>\n      <td>366</td>\n      <td>399</td>\n      <td>Großbeerenstraße 2-10, Haus 3</td>\n      <td>Großbeerenstraße 2-10, Haus 3</td>\n      <td>Temperatur43_Temperatur</td>\n      <td>1</td>\n      <td>1.0</td>\n      <td>°C</td>\n      <td>°C</td>\n      <td>5436</td>\n      <td>...</td>\n      <td>t_gprim_return</td>\n      <td>t_g_primreturn</td>\n      <td>NaN</td>\n      <td>40312</td>\n      <td>[t, g, primreturn]</td>\n      <td>t</td>\n      <td>g</td>\n      <td>primreturn</td>\n      <td>temperatureratur temperatureratur</td>\n      <td>temperatureratur temperaturera</td>\n    </tr>\n    <tr>\n      <th>478</th>\n      <td>399</td>\n      <td>399</td>\n      <td>Großbeerenstraße 2-10, Haus 1</td>\n      <td>Großbeerenstraße 2-10, Haus 1</td>\n      <td>ZW_ZZ1_rVolume</td>\n      <td>1</td>\n      <td>1.0</td>\n      <td>m³</td>\n      <td>m³</td>\n      <td>5963</td>\n      <td>...</td>\n      <td>v_g_gm</td>\n      <td>v_g_gm</td>\n      <td>NaN</td>\n      <td>3600-03-31 00:00:00</td>\n      <td>[v, g, gm]</td>\n      <td>v</td>\n      <td>g</td>\n      <td>gm</td>\n      <td>zw zz volume</td>\n      <td>gaszähler gesamt zählerstand</td>\n    </tr>\n    <tr>\n      <th>479</th>\n      <td>366</td>\n      <td>399</td>\n      <td>Großbeerenstraße 2-10, Haus 3</td>\n      <td>Großbeerenstraße 2-10, Haus 3</td>\n      <td>Primary1_Durchfluss</td>\n      <td>1</td>\n      <td>1.0</td>\n      <td>m3/h</td>\n      <td>m³/h</td>\n      <td>5440</td>\n      <td>...</td>\n      <td>vdot_g_hm</td>\n      <td>vdot_g_hm</td>\n      <td>NaN</td>\n      <td>16923</td>\n      <td>[vdot, g, hm]</td>\n      <td>vdot</td>\n      <td>g</td>\n      <td>hm</td>\n      <td>primary durchfluss</td>\n      <td>wärmemengenzähler gesamt durchfluss</td>\n    </tr>\n    <tr>\n      <th>480</th>\n      <td>435</td>\n      <td>435</td>\n      <td>Gebäude #435</td>\n      <td>Bülowstraße 7</td>\n      <td>aussentemp</td>\n      <td>1</td>\n      <td>1.0</td>\n      <td>NaN</td>\n      <td>0</td>\n      <td>7898</td>\n      <td>...</td>\n      <td>t_g_out</td>\n      <td>t_g_out</td>\n      <td>NaN</td>\n      <td>NaN</td>\n      <td>[t, g, out]</td>\n      <td>t</td>\n      <td>g</td>\n      <td>out</td>\n      <td>aussentemperatur</td>\n      <td>nicht bekannt</td>\n    </tr>\n    <tr>\n      <th>481</th>\n      <td>436</td>\n      <td>436</td>\n      <td>Gebäude #436</td>\n      <td>Nollendorfstraße 2</td>\n      <td>aussentemp</td>\n      <td>1</td>\n      <td>1.0</td>\n      <td>NaN</td>\n      <td>0</td>\n      <td>7908</td>\n      <td>...</td>\n      <td>t_g_out</td>\n      <td>t_g_out</td>\n      <td>NaN</td>\n      <td>NaN</td>\n      <td>[t, g, out]</td>\n      <td>t</td>\n      <td>g</td>\n      <td>out</td>\n      <td>aussentemperatur</td>\n      <td>nicht bekannt</td>\n    </tr>\n  </tbody>\n</table>\n<p>447 rows × 21 columns</p>\n</div>"
     },
     "execution_count": 15,
     "metadata": {},
     "output_type": "execute_result"
    }
   ],
   "source": [
    "df['node_text'] = df['node_text'].apply(replace_to_full_words, args=(GENERAL_MAPPINGS,))\n",
    "df['name_cust_text'] = df['name_cust_text'].apply(replace_to_full_words, args=(GENERAL_MAPPINGS,))\n",
    "df"
   ],
   "metadata": {
    "collapsed": false,
    "ExecuteTime": {
     "end_time": "2023-11-22T17:00:35.165947900Z",
     "start_time": "2023-11-22T17:00:35.127939400Z"
    }
   },
   "id": "d4113deb706cf91d"
  },
  {
   "cell_type": "code",
   "execution_count": 16,
   "outputs": [
    {
     "data": {
      "text/plain": "unit_getec\n°c      88\nmwh     43\nkw      13\nm³/h    12\nm³       8\nm3/h     2\nl/h      2\nkwh      2\nm°c      1\nm3       1\nbh       1\nName: count, dtype: int64"
     },
     "execution_count": 16,
     "metadata": {},
     "output_type": "execute_result"
    }
   ],
   "source": [
    "# explore units\n",
    "df[\"unit_getec\"].str.lower().value_counts()"
   ],
   "metadata": {
    "collapsed": false,
    "ExecuteTime": {
     "end_time": "2023-11-22T17:00:35.165947900Z",
     "start_time": "2023-11-22T17:00:35.144628800Z"
    }
   },
   "id": "efb8e5891e04f059"
  },
  {
   "cell_type": "code",
   "execution_count": 17,
   "outputs": [],
   "source": [
    "def preprocess_unit(unit: str) -> str:\n",
    "    \"\"\"\n",
    "    :param unit: unit string to preprocess\n",
    "    :return: preprocessed unit string\n",
    "    \"\"\"\n",
    "    # convert to string\n",
    "    output = str(unit)    \n",
    "    # lowercase the string\n",
    "    output = output.lower()\n",
    "    \n",
    "    # replace 0 with nicht bekannt\n",
    "    output = output.replace(\"0\",\"nicht bekannt\")\n",
    "    \n",
    "    # replace nan with nicht bekannt\n",
    "    output = output.replace(\"nan\",\"nicht bekannt\")\n",
    "    \n",
    "    # if mwh, convert to kwh\n",
    "    output = output.replace(\"mwh\",\"kwh\")\n",
    "    \n",
    "    # replace     # replace nan with nicht bekannt\n",
    "    output = output.replace(\"nan\",\"nicht bekannt\")\n",
    "    \n",
    "    output = output.replace(\"m3\",\"m³\")\n",
    "\n",
    "    return output"
   ],
   "metadata": {
    "collapsed": false,
    "ExecuteTime": {
     "end_time": "2023-11-22T17:00:35.200831600Z",
     "start_time": "2023-11-22T17:00:35.148815500Z"
    }
   },
   "id": "ea84f97562961321"
  },
  {
   "cell_type": "code",
   "execution_count": 18,
   "outputs": [
    {
     "data": {
      "text/plain": "unit_text\nnicht bekannt    274\n°c                88\nkwh               45\nm³/h              14\nkw                13\nm³                 9\nl/h                2\nm°c                1\nbh                 1\nName: count, dtype: int64"
     },
     "execution_count": 18,
     "metadata": {},
     "output_type": "execute_result"
    }
   ],
   "source": [
    "df['unit_text'] = df['unit_getec'].apply(preprocess_unit)\n",
    "df.unit_text.value_counts()"
   ],
   "metadata": {
    "collapsed": false,
    "ExecuteTime": {
     "end_time": "2023-11-22T17:00:35.221004300Z",
     "start_time": "2023-11-22T17:00:35.155021500Z"
    }
   },
   "id": "2520593563a4a4df"
  },
  {
   "cell_type": "code",
   "execution_count": 19,
   "outputs": [],
   "source": [
    "def add_texts(node_id: str, name_cust: str, unit: str) -> str:\n",
    "    \"\"\"\n",
    "    Adds the node_id, name_cust and unit strings together\n",
    "    :param node_id: node_id string\n",
    "    :param name_cust: name_cust string\n",
    "    :param unit: unit string\n",
    "    :return: concatenated string\n",
    "    \"\"\"\n",
    "    output = f\"knoten: {node_id}, name: {name_cust}, einheit: {unit}\"\n",
    "    return output"
   ],
   "metadata": {
    "collapsed": false,
    "ExecuteTime": {
     "end_time": "2023-11-22T17:00:35.222004Z",
     "start_time": "2023-11-22T17:00:35.163946Z"
    }
   },
   "id": "f85e806f34100316"
  },
  {
   "cell_type": "code",
   "execution_count": 20,
   "outputs": [
    {
     "data": {
      "text/plain": "     building  building_new                        address  \\\n1         359           359             Defreggerstraße 8B   \n2         359           359             Defreggerstraße 8B   \n3         359           359             Defreggerstraße 8B   \n4         359           359             Defreggerstraße 8B   \n5         359           359             Defreggerstraße 8B   \n..        ...           ...                            ...   \n477       366           399  Großbeerenstraße 2-10, Haus 3   \n478       399           399  Großbeerenstraße 2-10, Haus 1   \n479       366           399  Großbeerenstraße 2-10, Haus 3   \n480       435           435                   Gebäude #435   \n481       436           436                   Gebäude #436   \n\n                       address_new                  node_id  factor  \\\n1               Defreggerstraße 8B           ZW_ZZ1_rEnergy    1000   \n2               Defreggerstraße 8B           ZW_ZZ2_rEnergy    1000   \n3               Defreggerstraße 8B            ZW_ZZ1_rPower       1   \n4               Defreggerstraße 8B            ZW_ZZ2_rPower       1   \n5               Defreggerstraße 8B      CV_HVS1_rVentStellw       1   \n..                             ...                      ...     ...   \n477  Großbeerenstraße 2-10, Haus 3  Temperatur43_Temperatur       1   \n478  Großbeerenstraße 2-10, Haus 1           ZW_ZZ1_rVolume       1   \n479  Großbeerenstraße 2-10, Haus 3      Primary1_Durchfluss       1   \n480                  Bülowstraße 7               aussentemp       1   \n481             Nollendorfstraße 2               aussentemp       1   \n\n     factor_new unit_getec unit_getec_2   idn  ... hydraulic_location_index  \\\n1        1000.0        MWh          MWh  5144  ...                      1.0   \n2        1000.0        MWh          MWh  5142  ...                      1.0   \n3           1.0        NaN            0  5145  ...                      1.0   \n4           1.0        NaN            0  5139  ...                      1.0   \n5           1.0        NaN            0  5129  ...                      1.0   \n..          ...        ...          ...   ...  ...                      ...   \n477         1.0         °C           °C  5436  ...                      NaN   \n478         1.0         m³           m³  5963  ...                      NaN   \n479         1.0       m3/h         m³/h  5440  ...                      NaN   \n480         1.0        NaN            0  7898  ...                      NaN   \n481         1.0        NaN            0  7908  ...                      NaN   \n\n           current_value       acronym_split  measurement location  \\\n1                  933.1         [e, hc, hm]            e       hc   \n2                 484.77         [e, hw, hm]            e       hw   \n3                  36.74         [p, hc, hm]            p       hc   \n4                  15795         [p, hw, hm]            p       hw   \n5    3478-04-27 00:00:00      [r, hc, valve]            r       hc   \n..                   ...                 ...          ...      ...   \n477                40312  [t, g, primreturn]            t        g   \n478  3600-03-31 00:00:00          [v, g, gm]            v        g   \n479                16923       [vdot, g, hm]         vdot        g   \n480                  NaN         [t, g, out]            t        g   \n481                  NaN         [t, g, out]            t        g   \n\n    description                           node_text  \\\n1            hm                        zw zz energy   \n2            hm                        zw zz energy   \n3            hm                         zw zz power   \n4            hm                         zw zz power   \n5         valve                  cv hvs vent stellw   \n..          ...                                 ...   \n477  primreturn   temperatureratur temperatureratur   \n478          gm                        zw zz volume   \n479          hm                  primary durchfluss   \n480         out                    aussentemperatur   \n481         out                    aussentemperatur   \n\n                                    name_cust_text      unit_text  \\\n1                      wärmemengenzähler heizkreis            kwh   \n2             wärmemengenzähler wasserwerkbereiter            kwh   \n3             wärmemengenzähler heizkreis leistung  nicht bekannt   \n4    wärmemengenzähler wasserwerkbereiter leistung  nicht bekannt   \n5                       heizkreis mischerstellwert  nicht bekannt   \n..                                             ...            ...   \n477                 temperatureratur temperaturera             °c   \n478                   gaszähler gesamt zählerstand             m³   \n479            wärmemengenzähler gesamt durchfluss           m³/h   \n480                                  nicht bekannt  nicht bekannt   \n481                                  nicht bekannt  nicht bekannt   \n\n                                                  text  \n1    knoten: zw zz energy, name: wärmemengenzähler ...  \n2    knoten: zw zz energy, name: wärmemengenzähler ...  \n3    knoten: zw zz power, name: wärmemengenzähler h...  \n4    knoten: zw zz power, name: wärmemengenzähler w...  \n5    knoten: cv hvs vent stellw, name: heizkreis mi...  \n..                                                 ...  \n477  knoten:  temperatureratur temperatureratur, na...  \n478  knoten: zw zz volume, name: gaszähler gesamt z...  \n479  knoten: primary durchfluss, name: wärmemengenz...  \n480  knoten: aussentemperatur, name: nicht bekannt,...  \n481  knoten: aussentemperatur, name: nicht bekannt,...  \n\n[447 rows x 23 columns]",
      "text/html": "<div>\n<style scoped>\n    .dataframe tbody tr th:only-of-type {\n        vertical-align: middle;\n    }\n\n    .dataframe tbody tr th {\n        vertical-align: top;\n    }\n\n    .dataframe thead th {\n        text-align: right;\n    }\n</style>\n<table border=\"1\" class=\"dataframe\">\n  <thead>\n    <tr style=\"text-align: right;\">\n      <th></th>\n      <th>building</th>\n      <th>building_new</th>\n      <th>address</th>\n      <th>address_new</th>\n      <th>node_id</th>\n      <th>factor</th>\n      <th>factor_new</th>\n      <th>unit_getec</th>\n      <th>unit_getec_2</th>\n      <th>idn</th>\n      <th>...</th>\n      <th>hydraulic_location_index</th>\n      <th>current_value</th>\n      <th>acronym_split</th>\n      <th>measurement</th>\n      <th>location</th>\n      <th>description</th>\n      <th>node_text</th>\n      <th>name_cust_text</th>\n      <th>unit_text</th>\n      <th>text</th>\n    </tr>\n  </thead>\n  <tbody>\n    <tr>\n      <th>1</th>\n      <td>359</td>\n      <td>359</td>\n      <td>Defreggerstraße 8B</td>\n      <td>Defreggerstraße 8B</td>\n      <td>ZW_ZZ1_rEnergy</td>\n      <td>1000</td>\n      <td>1000.0</td>\n      <td>MWh</td>\n      <td>MWh</td>\n      <td>5144</td>\n      <td>...</td>\n      <td>1.0</td>\n      <td>933.1</td>\n      <td>[e, hc, hm]</td>\n      <td>e</td>\n      <td>hc</td>\n      <td>hm</td>\n      <td>zw zz energy</td>\n      <td>wärmemengenzähler heizkreis</td>\n      <td>kwh</td>\n      <td>knoten: zw zz energy, name: wärmemengenzähler ...</td>\n    </tr>\n    <tr>\n      <th>2</th>\n      <td>359</td>\n      <td>359</td>\n      <td>Defreggerstraße 8B</td>\n      <td>Defreggerstraße 8B</td>\n      <td>ZW_ZZ2_rEnergy</td>\n      <td>1000</td>\n      <td>1000.0</td>\n      <td>MWh</td>\n      <td>MWh</td>\n      <td>5142</td>\n      <td>...</td>\n      <td>1.0</td>\n      <td>484.77</td>\n      <td>[e, hw, hm]</td>\n      <td>e</td>\n      <td>hw</td>\n      <td>hm</td>\n      <td>zw zz energy</td>\n      <td>wärmemengenzähler wasserwerkbereiter</td>\n      <td>kwh</td>\n      <td>knoten: zw zz energy, name: wärmemengenzähler ...</td>\n    </tr>\n    <tr>\n      <th>3</th>\n      <td>359</td>\n      <td>359</td>\n      <td>Defreggerstraße 8B</td>\n      <td>Defreggerstraße 8B</td>\n      <td>ZW_ZZ1_rPower</td>\n      <td>1</td>\n      <td>1.0</td>\n      <td>NaN</td>\n      <td>0</td>\n      <td>5145</td>\n      <td>...</td>\n      <td>1.0</td>\n      <td>36.74</td>\n      <td>[p, hc, hm]</td>\n      <td>p</td>\n      <td>hc</td>\n      <td>hm</td>\n      <td>zw zz power</td>\n      <td>wärmemengenzähler heizkreis leistung</td>\n      <td>nicht bekannt</td>\n      <td>knoten: zw zz power, name: wärmemengenzähler h...</td>\n    </tr>\n    <tr>\n      <th>4</th>\n      <td>359</td>\n      <td>359</td>\n      <td>Defreggerstraße 8B</td>\n      <td>Defreggerstraße 8B</td>\n      <td>ZW_ZZ2_rPower</td>\n      <td>1</td>\n      <td>1.0</td>\n      <td>NaN</td>\n      <td>0</td>\n      <td>5139</td>\n      <td>...</td>\n      <td>1.0</td>\n      <td>15795</td>\n      <td>[p, hw, hm]</td>\n      <td>p</td>\n      <td>hw</td>\n      <td>hm</td>\n      <td>zw zz power</td>\n      <td>wärmemengenzähler wasserwerkbereiter leistung</td>\n      <td>nicht bekannt</td>\n      <td>knoten: zw zz power, name: wärmemengenzähler w...</td>\n    </tr>\n    <tr>\n      <th>5</th>\n      <td>359</td>\n      <td>359</td>\n      <td>Defreggerstraße 8B</td>\n      <td>Defreggerstraße 8B</td>\n      <td>CV_HVS1_rVentStellw</td>\n      <td>1</td>\n      <td>1.0</td>\n      <td>NaN</td>\n      <td>0</td>\n      <td>5129</td>\n      <td>...</td>\n      <td>1.0</td>\n      <td>3478-04-27 00:00:00</td>\n      <td>[r, hc, valve]</td>\n      <td>r</td>\n      <td>hc</td>\n      <td>valve</td>\n      <td>cv hvs vent stellw</td>\n      <td>heizkreis mischerstellwert</td>\n      <td>nicht bekannt</td>\n      <td>knoten: cv hvs vent stellw, name: heizkreis mi...</td>\n    </tr>\n    <tr>\n      <th>...</th>\n      <td>...</td>\n      <td>...</td>\n      <td>...</td>\n      <td>...</td>\n      <td>...</td>\n      <td>...</td>\n      <td>...</td>\n      <td>...</td>\n      <td>...</td>\n      <td>...</td>\n      <td>...</td>\n      <td>...</td>\n      <td>...</td>\n      <td>...</td>\n      <td>...</td>\n      <td>...</td>\n      <td>...</td>\n      <td>...</td>\n      <td>...</td>\n      <td>...</td>\n      <td>...</td>\n    </tr>\n    <tr>\n      <th>477</th>\n      <td>366</td>\n      <td>399</td>\n      <td>Großbeerenstraße 2-10, Haus 3</td>\n      <td>Großbeerenstraße 2-10, Haus 3</td>\n      <td>Temperatur43_Temperatur</td>\n      <td>1</td>\n      <td>1.0</td>\n      <td>°C</td>\n      <td>°C</td>\n      <td>5436</td>\n      <td>...</td>\n      <td>NaN</td>\n      <td>40312</td>\n      <td>[t, g, primreturn]</td>\n      <td>t</td>\n      <td>g</td>\n      <td>primreturn</td>\n      <td>temperatureratur temperatureratur</td>\n      <td>temperatureratur temperaturera</td>\n      <td>°c</td>\n      <td>knoten:  temperatureratur temperatureratur, na...</td>\n    </tr>\n    <tr>\n      <th>478</th>\n      <td>399</td>\n      <td>399</td>\n      <td>Großbeerenstraße 2-10, Haus 1</td>\n      <td>Großbeerenstraße 2-10, Haus 1</td>\n      <td>ZW_ZZ1_rVolume</td>\n      <td>1</td>\n      <td>1.0</td>\n      <td>m³</td>\n      <td>m³</td>\n      <td>5963</td>\n      <td>...</td>\n      <td>NaN</td>\n      <td>3600-03-31 00:00:00</td>\n      <td>[v, g, gm]</td>\n      <td>v</td>\n      <td>g</td>\n      <td>gm</td>\n      <td>zw zz volume</td>\n      <td>gaszähler gesamt zählerstand</td>\n      <td>m³</td>\n      <td>knoten: zw zz volume, name: gaszähler gesamt z...</td>\n    </tr>\n    <tr>\n      <th>479</th>\n      <td>366</td>\n      <td>399</td>\n      <td>Großbeerenstraße 2-10, Haus 3</td>\n      <td>Großbeerenstraße 2-10, Haus 3</td>\n      <td>Primary1_Durchfluss</td>\n      <td>1</td>\n      <td>1.0</td>\n      <td>m3/h</td>\n      <td>m³/h</td>\n      <td>5440</td>\n      <td>...</td>\n      <td>NaN</td>\n      <td>16923</td>\n      <td>[vdot, g, hm]</td>\n      <td>vdot</td>\n      <td>g</td>\n      <td>hm</td>\n      <td>primary durchfluss</td>\n      <td>wärmemengenzähler gesamt durchfluss</td>\n      <td>m³/h</td>\n      <td>knoten: primary durchfluss, name: wärmemengenz...</td>\n    </tr>\n    <tr>\n      <th>480</th>\n      <td>435</td>\n      <td>435</td>\n      <td>Gebäude #435</td>\n      <td>Bülowstraße 7</td>\n      <td>aussentemp</td>\n      <td>1</td>\n      <td>1.0</td>\n      <td>NaN</td>\n      <td>0</td>\n      <td>7898</td>\n      <td>...</td>\n      <td>NaN</td>\n      <td>NaN</td>\n      <td>[t, g, out]</td>\n      <td>t</td>\n      <td>g</td>\n      <td>out</td>\n      <td>aussentemperatur</td>\n      <td>nicht bekannt</td>\n      <td>nicht bekannt</td>\n      <td>knoten: aussentemperatur, name: nicht bekannt,...</td>\n    </tr>\n    <tr>\n      <th>481</th>\n      <td>436</td>\n      <td>436</td>\n      <td>Gebäude #436</td>\n      <td>Nollendorfstraße 2</td>\n      <td>aussentemp</td>\n      <td>1</td>\n      <td>1.0</td>\n      <td>NaN</td>\n      <td>0</td>\n      <td>7908</td>\n      <td>...</td>\n      <td>NaN</td>\n      <td>NaN</td>\n      <td>[t, g, out]</td>\n      <td>t</td>\n      <td>g</td>\n      <td>out</td>\n      <td>aussentemperatur</td>\n      <td>nicht bekannt</td>\n      <td>nicht bekannt</td>\n      <td>knoten: aussentemperatur, name: nicht bekannt,...</td>\n    </tr>\n  </tbody>\n</table>\n<p>447 rows × 23 columns</p>\n</div>"
     },
     "execution_count": 20,
     "metadata": {},
     "output_type": "execute_result"
    }
   ],
   "source": [
    "df['text'] = df.apply(lambda x: add_texts(x['node_text'], x['name_cust_text'], x['unit_text']), axis=1)\n",
    "df"
   ],
   "metadata": {
    "collapsed": false,
    "ExecuteTime": {
     "end_time": "2023-11-22T17:00:35.292805800Z",
     "start_time": "2023-11-22T17:00:35.170018100Z"
    }
   },
   "id": "b6f9774b3f0b8221"
  },
  {
   "cell_type": "code",
   "execution_count": 21,
   "outputs": [
    {
     "data": {
      "text/plain": "text\nknoten: ai hvs vl temperatur, name: heizkreis vorlauftemperatureratur, einheit: °c                                            13\nknoten: zw zz power, name: wärmemengenzähler wasserwerkbereiter leistung, einheit: nicht bekannt                              11\nknoten: ai hvs vl temperatur, name: vorlauftemperatureratur heizkreis, einheit: nicht bekannt                                 10\nknoten: zw zz energy, name: wärmemengenzähler wasserwerkbereiter energie, einheit: kwh                                        10\nknoten: zw zz r temperatur, name: wärmemengenzähler heizung rücklauftemperatur, einheit: nicht bekannt                        10\n                                                                                                                              ..\nknoten: primary vorlauftemperatureratur, name: wärmemengenzähler nollendorfstr gesamt vorlauftemperatureratur, einheit: °c     1\nknoten: primary energie, name: wärmemengenzähler nollendorfstr gesamt energie, einheit: kwh                                    1\nknoten: primary durchfluss, name: wärmemengenzähler nollendorfstr gesamt durchfluss, einheit: l/h                              1\nknoten: zw zz r temperatur, name: rltemperatur wärmemengenzähler gesamt, einheit: nicht bekannt                                1\nknoten: primary durchfluss, name: wärmemengenzähler gesamt durchfluss, einheit: m³/h                                           1\nName: count, Length: 141, dtype: int64"
     },
     "execution_count": 21,
     "metadata": {},
     "output_type": "execute_result"
    }
   ],
   "source": [
    "df['text'].value_counts()"
   ],
   "metadata": {
    "collapsed": false,
    "ExecuteTime": {
     "end_time": "2023-11-22T17:00:35.293805600Z",
     "start_time": "2023-11-22T17:00:35.187609400Z"
    }
   },
   "id": "16f3fa54eebd6a64"
  },
  {
   "cell_type": "code",
   "execution_count": 22,
   "outputs": [
    {
     "data": {
      "text/plain": "Index(['building', 'building_new', 'address', 'address_new', 'node_id',\n       'factor', 'factor_new', 'unit_getec', 'unit_getec_2', 'idn',\n       'name_cust', 'gfstandard', 'acronym_n', 'hydraulic_location_index',\n       'current_value', 'acronym_split', 'measurement', 'location',\n       'description', 'node_text', 'name_cust_text', 'unit_text', 'text'],\n      dtype='object')"
     },
     "execution_count": 22,
     "metadata": {},
     "output_type": "execute_result"
    }
   ],
   "source": [
    "df.columns"
   ],
   "metadata": {
    "collapsed": false,
    "ExecuteTime": {
     "end_time": "2023-11-22T17:00:35.293805600Z",
     "start_time": "2023-11-22T17:00:35.190966700Z"
    }
   },
   "id": "8fbf94200665143d"
  },
  {
   "cell_type": "code",
   "execution_count": 23,
   "outputs": [
    {
     "data": {
      "text/plain": "                                                  text measurement location  \\\n1    knoten: zw zz energy, name: wärmemengenzähler ...           e       hc   \n2    knoten: zw zz energy, name: wärmemengenzähler ...           e       hw   \n3    knoten: zw zz power, name: wärmemengenzähler h...           p       hc   \n4    knoten: zw zz power, name: wärmemengenzähler w...           p       hw   \n5    knoten: cv hvs vent stellw, name: heizkreis mi...           r       hc   \n..                                                 ...         ...      ...   \n477  knoten:  temperatureratur temperatureratur, na...           t        g   \n478  knoten: zw zz volume, name: gaszähler gesamt z...           v        g   \n479  knoten: primary durchfluss, name: wärmemengenz...        vdot        g   \n480  knoten: aussentemperatur, name: nicht bekannt,...           t        g   \n481  knoten: aussentemperatur, name: nicht bekannt,...           t        g   \n\n    description  \n1            hm  \n2            hm  \n3            hm  \n4            hm  \n5         valve  \n..          ...  \n477  primreturn  \n478          gm  \n479          hm  \n480         out  \n481         out  \n\n[447 rows x 4 columns]",
      "text/html": "<div>\n<style scoped>\n    .dataframe tbody tr th:only-of-type {\n        vertical-align: middle;\n    }\n\n    .dataframe tbody tr th {\n        vertical-align: top;\n    }\n\n    .dataframe thead th {\n        text-align: right;\n    }\n</style>\n<table border=\"1\" class=\"dataframe\">\n  <thead>\n    <tr style=\"text-align: right;\">\n      <th></th>\n      <th>text</th>\n      <th>measurement</th>\n      <th>location</th>\n      <th>description</th>\n    </tr>\n  </thead>\n  <tbody>\n    <tr>\n      <th>1</th>\n      <td>knoten: zw zz energy, name: wärmemengenzähler ...</td>\n      <td>e</td>\n      <td>hc</td>\n      <td>hm</td>\n    </tr>\n    <tr>\n      <th>2</th>\n      <td>knoten: zw zz energy, name: wärmemengenzähler ...</td>\n      <td>e</td>\n      <td>hw</td>\n      <td>hm</td>\n    </tr>\n    <tr>\n      <th>3</th>\n      <td>knoten: zw zz power, name: wärmemengenzähler h...</td>\n      <td>p</td>\n      <td>hc</td>\n      <td>hm</td>\n    </tr>\n    <tr>\n      <th>4</th>\n      <td>knoten: zw zz power, name: wärmemengenzähler w...</td>\n      <td>p</td>\n      <td>hw</td>\n      <td>hm</td>\n    </tr>\n    <tr>\n      <th>5</th>\n      <td>knoten: cv hvs vent stellw, name: heizkreis mi...</td>\n      <td>r</td>\n      <td>hc</td>\n      <td>valve</td>\n    </tr>\n    <tr>\n      <th>...</th>\n      <td>...</td>\n      <td>...</td>\n      <td>...</td>\n      <td>...</td>\n    </tr>\n    <tr>\n      <th>477</th>\n      <td>knoten:  temperatureratur temperatureratur, na...</td>\n      <td>t</td>\n      <td>g</td>\n      <td>primreturn</td>\n    </tr>\n    <tr>\n      <th>478</th>\n      <td>knoten: zw zz volume, name: gaszähler gesamt z...</td>\n      <td>v</td>\n      <td>g</td>\n      <td>gm</td>\n    </tr>\n    <tr>\n      <th>479</th>\n      <td>knoten: primary durchfluss, name: wärmemengenz...</td>\n      <td>vdot</td>\n      <td>g</td>\n      <td>hm</td>\n    </tr>\n    <tr>\n      <th>480</th>\n      <td>knoten: aussentemperatur, name: nicht bekannt,...</td>\n      <td>t</td>\n      <td>g</td>\n      <td>out</td>\n    </tr>\n    <tr>\n      <th>481</th>\n      <td>knoten: aussentemperatur, name: nicht bekannt,...</td>\n      <td>t</td>\n      <td>g</td>\n      <td>out</td>\n    </tr>\n  </tbody>\n</table>\n<p>447 rows × 4 columns</p>\n</div>"
     },
     "execution_count": 23,
     "metadata": {},
     "output_type": "execute_result"
    }
   ],
   "source": [
    "data = df[['text', 'measurement', 'location', 'description']].dropna()\n",
    "\n",
    "# convert measurement, location and description to categorical\n",
    "data['measurement'] = data['measurement'].astype('category')\n",
    "data['location'] = data['location'].astype('category')\n",
    "data['description'] = data['description'].astype('category')\n",
    "\n",
    "data"
   ],
   "metadata": {
    "collapsed": false,
    "ExecuteTime": {
     "end_time": "2023-11-22T17:00:35.293805600Z",
     "start_time": "2023-11-22T17:00:35.197737800Z"
    }
   },
   "id": "eb8857e92a5e4522"
  },
  {
   "cell_type": "code",
   "execution_count": 24,
   "outputs": [],
   "source": [
    "data.to_csv('data/sensors_cleaned.csv', index=False)\n",
    "data.to_pickle(\"data/sensors_cleaned.pkl\")"
   ],
   "metadata": {
    "collapsed": false,
    "ExecuteTime": {
     "end_time": "2023-11-22T17:00:35.294805600Z",
     "start_time": "2023-11-22T17:00:35.209664100Z"
    }
   },
   "id": "2e02de3178fe204c"
  },
  {
   "cell_type": "code",
   "execution_count": 25,
   "outputs": [
    {
     "name": "stdout",
     "output_type": "stream",
     "text": [
      "Data saved successfully\n"
     ]
    }
   ],
   "source": [
    "print(\"Data saved successfully\")"
   ],
   "metadata": {
    "collapsed": false,
    "ExecuteTime": {
     "end_time": "2023-11-22T17:00:35.294805600Z",
     "start_time": "2023-11-22T17:00:35.215964Z"
    }
   },
   "id": "9a751fce647a4aa3"
  }
 ],
 "metadata": {
  "kernelspec": {
   "display_name": "Python 3",
   "language": "python",
   "name": "python3"
  },
  "language_info": {
   "codemirror_mode": {
    "name": "ipython",
    "version": 2
   },
   "file_extension": ".py",
   "mimetype": "text/x-python",
   "name": "python",
   "nbconvert_exporter": "python",
   "pygments_lexer": "ipython2",
   "version": "2.7.6"
  }
 },
 "nbformat": 4,
 "nbformat_minor": 5
}
